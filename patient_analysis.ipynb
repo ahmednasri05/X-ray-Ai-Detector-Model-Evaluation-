{
 "cells": [
  {
   "metadata": {},
   "cell_type": "markdown",
   "source": "# Patient Diagnosis Analysis",
   "id": "8a77807f92f26ee"
  },
  {
   "metadata": {
    "ExecuteTime": {
     "end_time": "2024-09-22T14:29:10.097101Z",
     "start_time": "2024-09-22T14:29:10.078842Z"
    }
   },
   "cell_type": "code",
   "source": [
    "import pandas as pd\n",
    "import numpy as np\n",
    "import matplotlib.pyplot as plt\n",
    "from sklearn.metrics import confusion_matrix\n",
    "import seaborn as sns\n",
    "from sklearn.model_selection import train_test_split\n",
    "from sklearn.metrics import accuracy_score\n",
    "from sklearn.metrics import f1_score\n",
    "from sklearn.metrics import recall_score, precision_score\n",
    "from sklearn.metrics import jaccard_score\n",
    "\n",
    "\n"
   ],
   "id": "fbc121e30a2defb3",
   "outputs": [],
   "execution_count": 289
  },
  {
   "metadata": {},
   "cell_type": "markdown",
   "source": [
    "## Objectives: ##\n",
    "- Accuracy of Model: (accuracy, f1 score(recall ACC), jquard-index..etc)\n",
    "- Improvements in the doctor's diagnosis after using AI.\n",
    "- Patterns in cases where AI disagrees with the ideal answer (e.g., certain fracture types that are harder to detect).\n",
    "- Influence of AI recommendations on procedure changes (positive or negative impact when diagnosis changes based on AI).\n",
    "- Instances where the doctor disagrees with both the ideal answer and AI's prediction.\n",
    "- Instances where AI disagrees with the doctor.\n",
    "\n",
    "**Final Question**: \n",
    "- Do doctors trust AI, and how effective is it in aiding their diagnosis?\n",
    "\n",
    "  "
   ],
   "id": "2e04cb9c5b1d5a35"
  },
  {
   "metadata": {
    "ExecuteTime": {
     "end_time": "2024-09-22T14:29:10.556827Z",
     "start_time": "2024-09-22T14:29:10.428866Z"
    }
   },
   "cell_type": "code",
   "source": [
    "raw_patients = pd.read_excel('patients.xlsx')\n",
    "raw_patients.columns"
   ],
   "id": "35f716c47bc31f11",
   "outputs": [
    {
     "data": {
      "text/plain": [
       "Index(['Datum', 'Unnamed: 1', 'Patient\\n(Initialen/Geburtsdat.)', 'Unnamed: 3',\n",
       "       'Diagnose Arzt vor KI', 'Unnamed: 5', 'Unnamed: 6', 'Befund KI',\n",
       "       'Unnamed: 8', 'Unnamed: 9', 'Diagnose Arzt nach KI', 'Unnamed: 11',\n",
       "       'Unnamed: 12', 'Änderung der Diagnose', 'Unnamed: 14', 'Unnamed: 15',\n",
       "       'Therapie vor KI', 'Unnamed: 17', 'Unnamed: 18', 'Therapie nach KI',\n",
       "       'Unnamed: 20', 'Änderung der Maßnahme\\nnein/ja (In wie fern?)',\n",
       "       'Unnamed: 22', 'Ausbildungsjahr\\n', 'Unnamed: 24',\n",
       "       'Befund der Kinderradiologen'],\n",
       "      dtype='object')"
      ]
     },
     "execution_count": 290,
     "metadata": {},
     "output_type": "execute_result"
    }
   ],
   "execution_count": 290
  },
  {
   "metadata": {
    "ExecuteTime": {
     "end_time": "2024-09-22T14:29:10.585039Z",
     "start_time": "2024-09-22T14:29:10.560710Z"
    }
   },
   "cell_type": "code",
   "source": "raw_patients.head()",
   "id": "e5079ce7a191adbb",
   "outputs": [
    {
     "data": {
      "text/plain": [
       "   Datum  Unnamed: 1  Patient\\n(Initialen/Geburtsdat.)  Unnamed: 3  \\\n",
       "0    NaN         NaN                               NaN         NaN   \n",
       "1    NaN         NaN                               NaN         NaN   \n",
       "2    NaN         NaN                               NaN         NaN   \n",
       "3    NaN         NaN                               NaN         NaN   \n",
       "4    NaN         NaN                               NaN         NaN   \n",
       "\n",
       "                                Diagnose Arzt vor KI  Unnamed: 5  Unnamed: 6  \\\n",
       "0                                      keine Fraktur         NaN         NaN   \n",
       "1    isolierte Ulnaschaftfraktur\\n (Grünholzfraktur)         NaN         NaN   \n",
       "2  dislozierte Fraktur D5 links\\n am Kopf des Gru...         NaN         NaN   \n",
       "3                                      keine Fraktur         NaN         NaN   \n",
       "4                                      keine Fraktur         NaN         NaN   \n",
       "\n",
       "                                           Befund KI  Unnamed: 8  Unnamed: 9  \\\n",
       "0                                        No fracture         NaN         NaN   \n",
       "1                            high suspicion fracture         NaN         NaN   \n",
       "2  High suspicion fracture, \\naber hat Dislokatio...         NaN         NaN   \n",
       "3                                        no fracture         NaN         NaN   \n",
       "4                             low suspicion fracture         NaN         NaN   \n",
       "\n",
       "   ...                                    Therapie vor KI  Unnamed: 17  \\\n",
       "0  ...                                    Voltarenverband          NaN   \n",
       "1  ...                            Oberarm-Gips+ Kontrolle          NaN   \n",
       "2  ...                      Finger-Taping IV. und V links          NaN   \n",
       "3  ...                                    Voltarenverband          NaN   \n",
       "4  ...  trotzdem Gipsschiene, \\nweil dies der 2. Stoß ...          NaN   \n",
       "\n",
       "   Unnamed: 18         Therapie nach KI  Unnamed: 20  \\\n",
       "0          NaN          Voltarenverband          NaN   \n",
       "1          NaN  Oberarm-Gips+ Kontrolle          NaN   \n",
       "2          NaN                       ,,          NaN   \n",
       "3          NaN                       ,,          NaN   \n",
       "4          NaN                       ,,          NaN   \n",
       "\n",
       "   Änderung der Maßnahme\\nnein/ja (In wie fern?) Unnamed: 22  \\\n",
       "0                                           nein         NaN   \n",
       "1                                           nein         NaN   \n",
       "2                                           nein         NaN   \n",
       "3                                           nein         NaN   \n",
       "4                                           nein         NaN   \n",
       "\n",
       "   Ausbildungsjahr\\n  Unnamed: 24  \\\n",
       "0                  5          NaN   \n",
       "1                  5          NaN   \n",
       "2                  8          NaN   \n",
       "3                 N?          NaN   \n",
       "4                  5          NaN   \n",
       "\n",
       "                         Befund der Kinderradiologen  \n",
       "0                   Keine Fraktur,\\nPatella Wiberg 2  \n",
       "1                                  Ulnaschaftfraktur  \n",
       "2  dislozierte Fraktur des Köpchens\\n der Grundph...  \n",
       "3                                      Keine Fraktur  \n",
       "4                               Kein Frakturnahcweis  \n",
       "\n",
       "[5 rows x 26 columns]"
      ],
      "text/html": [
       "<div>\n",
       "<style scoped>\n",
       "    .dataframe tbody tr th:only-of-type {\n",
       "        vertical-align: middle;\n",
       "    }\n",
       "\n",
       "    .dataframe tbody tr th {\n",
       "        vertical-align: top;\n",
       "    }\n",
       "\n",
       "    .dataframe thead th {\n",
       "        text-align: right;\n",
       "    }\n",
       "</style>\n",
       "<table border=\"1\" class=\"dataframe\">\n",
       "  <thead>\n",
       "    <tr style=\"text-align: right;\">\n",
       "      <th></th>\n",
       "      <th>Datum</th>\n",
       "      <th>Unnamed: 1</th>\n",
       "      <th>Patient\\n(Initialen/Geburtsdat.)</th>\n",
       "      <th>Unnamed: 3</th>\n",
       "      <th>Diagnose Arzt vor KI</th>\n",
       "      <th>Unnamed: 5</th>\n",
       "      <th>Unnamed: 6</th>\n",
       "      <th>Befund KI</th>\n",
       "      <th>Unnamed: 8</th>\n",
       "      <th>Unnamed: 9</th>\n",
       "      <th>...</th>\n",
       "      <th>Therapie vor KI</th>\n",
       "      <th>Unnamed: 17</th>\n",
       "      <th>Unnamed: 18</th>\n",
       "      <th>Therapie nach KI</th>\n",
       "      <th>Unnamed: 20</th>\n",
       "      <th>Änderung der Maßnahme\\nnein/ja (In wie fern?)</th>\n",
       "      <th>Unnamed: 22</th>\n",
       "      <th>Ausbildungsjahr\\n</th>\n",
       "      <th>Unnamed: 24</th>\n",
       "      <th>Befund der Kinderradiologen</th>\n",
       "    </tr>\n",
       "  </thead>\n",
       "  <tbody>\n",
       "    <tr>\n",
       "      <th>0</th>\n",
       "      <td>NaN</td>\n",
       "      <td>NaN</td>\n",
       "      <td>NaN</td>\n",
       "      <td>NaN</td>\n",
       "      <td>keine Fraktur</td>\n",
       "      <td>NaN</td>\n",
       "      <td>NaN</td>\n",
       "      <td>No fracture</td>\n",
       "      <td>NaN</td>\n",
       "      <td>NaN</td>\n",
       "      <td>...</td>\n",
       "      <td>Voltarenverband</td>\n",
       "      <td>NaN</td>\n",
       "      <td>NaN</td>\n",
       "      <td>Voltarenverband</td>\n",
       "      <td>NaN</td>\n",
       "      <td>nein</td>\n",
       "      <td>NaN</td>\n",
       "      <td>5</td>\n",
       "      <td>NaN</td>\n",
       "      <td>Keine Fraktur,\\nPatella Wiberg 2</td>\n",
       "    </tr>\n",
       "    <tr>\n",
       "      <th>1</th>\n",
       "      <td>NaN</td>\n",
       "      <td>NaN</td>\n",
       "      <td>NaN</td>\n",
       "      <td>NaN</td>\n",
       "      <td>isolierte Ulnaschaftfraktur\\n (Grünholzfraktur)</td>\n",
       "      <td>NaN</td>\n",
       "      <td>NaN</td>\n",
       "      <td>high suspicion fracture</td>\n",
       "      <td>NaN</td>\n",
       "      <td>NaN</td>\n",
       "      <td>...</td>\n",
       "      <td>Oberarm-Gips+ Kontrolle</td>\n",
       "      <td>NaN</td>\n",
       "      <td>NaN</td>\n",
       "      <td>Oberarm-Gips+ Kontrolle</td>\n",
       "      <td>NaN</td>\n",
       "      <td>nein</td>\n",
       "      <td>NaN</td>\n",
       "      <td>5</td>\n",
       "      <td>NaN</td>\n",
       "      <td>Ulnaschaftfraktur</td>\n",
       "    </tr>\n",
       "    <tr>\n",
       "      <th>2</th>\n",
       "      <td>NaN</td>\n",
       "      <td>NaN</td>\n",
       "      <td>NaN</td>\n",
       "      <td>NaN</td>\n",
       "      <td>dislozierte Fraktur D5 links\\n am Kopf des Gru...</td>\n",
       "      <td>NaN</td>\n",
       "      <td>NaN</td>\n",
       "      <td>High suspicion fracture, \\naber hat Dislokatio...</td>\n",
       "      <td>NaN</td>\n",
       "      <td>NaN</td>\n",
       "      <td>...</td>\n",
       "      <td>Finger-Taping IV. und V links</td>\n",
       "      <td>NaN</td>\n",
       "      <td>NaN</td>\n",
       "      <td>,,</td>\n",
       "      <td>NaN</td>\n",
       "      <td>nein</td>\n",
       "      <td>NaN</td>\n",
       "      <td>8</td>\n",
       "      <td>NaN</td>\n",
       "      <td>dislozierte Fraktur des Köpchens\\n der Grundph...</td>\n",
       "    </tr>\n",
       "    <tr>\n",
       "      <th>3</th>\n",
       "      <td>NaN</td>\n",
       "      <td>NaN</td>\n",
       "      <td>NaN</td>\n",
       "      <td>NaN</td>\n",
       "      <td>keine Fraktur</td>\n",
       "      <td>NaN</td>\n",
       "      <td>NaN</td>\n",
       "      <td>no fracture</td>\n",
       "      <td>NaN</td>\n",
       "      <td>NaN</td>\n",
       "      <td>...</td>\n",
       "      <td>Voltarenverband</td>\n",
       "      <td>NaN</td>\n",
       "      <td>NaN</td>\n",
       "      <td>,,</td>\n",
       "      <td>NaN</td>\n",
       "      <td>nein</td>\n",
       "      <td>NaN</td>\n",
       "      <td>N?</td>\n",
       "      <td>NaN</td>\n",
       "      <td>Keine Fraktur</td>\n",
       "    </tr>\n",
       "    <tr>\n",
       "      <th>4</th>\n",
       "      <td>NaN</td>\n",
       "      <td>NaN</td>\n",
       "      <td>NaN</td>\n",
       "      <td>NaN</td>\n",
       "      <td>keine Fraktur</td>\n",
       "      <td>NaN</td>\n",
       "      <td>NaN</td>\n",
       "      <td>low suspicion fracture</td>\n",
       "      <td>NaN</td>\n",
       "      <td>NaN</td>\n",
       "      <td>...</td>\n",
       "      <td>trotzdem Gipsschiene, \\nweil dies der 2. Stoß ...</td>\n",
       "      <td>NaN</td>\n",
       "      <td>NaN</td>\n",
       "      <td>,,</td>\n",
       "      <td>NaN</td>\n",
       "      <td>nein</td>\n",
       "      <td>NaN</td>\n",
       "      <td>5</td>\n",
       "      <td>NaN</td>\n",
       "      <td>Kein Frakturnahcweis</td>\n",
       "    </tr>\n",
       "  </tbody>\n",
       "</table>\n",
       "<p>5 rows × 26 columns</p>\n",
       "</div>"
      ]
     },
     "execution_count": 291,
     "metadata": {},
     "output_type": "execute_result"
    }
   ],
   "execution_count": 291
  },
  {
   "metadata": {
    "ExecuteTime": {
     "end_time": "2024-09-22T14:29:10.600937Z",
     "start_time": "2024-09-22T14:29:10.585039Z"
    }
   },
   "cell_type": "code",
   "source": [
    "raw_patients = raw_patients[['Diagnose Arzt vor KI', 'Befund KI', 'Diagnose Arzt nach KI', 'Änderung der Diagnose', 'Befund der Kinderradiologen']]\n",
    "raw = raw_patients.copy(deep=True)\n",
    "raw_patients.head()\n"
   ],
   "id": "bc69043e071d9259",
   "outputs": [
    {
     "data": {
      "text/plain": [
       "                                Diagnose Arzt vor KI  \\\n",
       "0                                      keine Fraktur   \n",
       "1    isolierte Ulnaschaftfraktur\\n (Grünholzfraktur)   \n",
       "2  dislozierte Fraktur D5 links\\n am Kopf des Gru...   \n",
       "3                                      keine Fraktur   \n",
       "4                                      keine Fraktur   \n",
       "\n",
       "                                           Befund KI  \\\n",
       "0                                        No fracture   \n",
       "1                            high suspicion fracture   \n",
       "2  High suspicion fracture, \\naber hat Dislokatio...   \n",
       "3                                        no fracture   \n",
       "4                             low suspicion fracture   \n",
       "\n",
       "                               Diagnose Arzt nach KI Änderung der Diagnose  \\\n",
       "0                                      keine Fraktur                  nein   \n",
       "1                        isolierte Ulnaschaftfraktur                  nein   \n",
       "2  dislozierte Fraktur D5 links\\n am Kopf des Gru...                  nein   \n",
       "3                                      keine Fraktur                  nein   \n",
       "4                                      keine Fraktur                  nein   \n",
       "\n",
       "                         Befund der Kinderradiologen  \n",
       "0                   Keine Fraktur,\\nPatella Wiberg 2  \n",
       "1                                  Ulnaschaftfraktur  \n",
       "2  dislozierte Fraktur des Köpchens\\n der Grundph...  \n",
       "3                                      Keine Fraktur  \n",
       "4                               Kein Frakturnahcweis  "
      ],
      "text/html": [
       "<div>\n",
       "<style scoped>\n",
       "    .dataframe tbody tr th:only-of-type {\n",
       "        vertical-align: middle;\n",
       "    }\n",
       "\n",
       "    .dataframe tbody tr th {\n",
       "        vertical-align: top;\n",
       "    }\n",
       "\n",
       "    .dataframe thead th {\n",
       "        text-align: right;\n",
       "    }\n",
       "</style>\n",
       "<table border=\"1\" class=\"dataframe\">\n",
       "  <thead>\n",
       "    <tr style=\"text-align: right;\">\n",
       "      <th></th>\n",
       "      <th>Diagnose Arzt vor KI</th>\n",
       "      <th>Befund KI</th>\n",
       "      <th>Diagnose Arzt nach KI</th>\n",
       "      <th>Änderung der Diagnose</th>\n",
       "      <th>Befund der Kinderradiologen</th>\n",
       "    </tr>\n",
       "  </thead>\n",
       "  <tbody>\n",
       "    <tr>\n",
       "      <th>0</th>\n",
       "      <td>keine Fraktur</td>\n",
       "      <td>No fracture</td>\n",
       "      <td>keine Fraktur</td>\n",
       "      <td>nein</td>\n",
       "      <td>Keine Fraktur,\\nPatella Wiberg 2</td>\n",
       "    </tr>\n",
       "    <tr>\n",
       "      <th>1</th>\n",
       "      <td>isolierte Ulnaschaftfraktur\\n (Grünholzfraktur)</td>\n",
       "      <td>high suspicion fracture</td>\n",
       "      <td>isolierte Ulnaschaftfraktur</td>\n",
       "      <td>nein</td>\n",
       "      <td>Ulnaschaftfraktur</td>\n",
       "    </tr>\n",
       "    <tr>\n",
       "      <th>2</th>\n",
       "      <td>dislozierte Fraktur D5 links\\n am Kopf des Gru...</td>\n",
       "      <td>High suspicion fracture, \\naber hat Dislokatio...</td>\n",
       "      <td>dislozierte Fraktur D5 links\\n am Kopf des Gru...</td>\n",
       "      <td>nein</td>\n",
       "      <td>dislozierte Fraktur des Köpchens\\n der Grundph...</td>\n",
       "    </tr>\n",
       "    <tr>\n",
       "      <th>3</th>\n",
       "      <td>keine Fraktur</td>\n",
       "      <td>no fracture</td>\n",
       "      <td>keine Fraktur</td>\n",
       "      <td>nein</td>\n",
       "      <td>Keine Fraktur</td>\n",
       "    </tr>\n",
       "    <tr>\n",
       "      <th>4</th>\n",
       "      <td>keine Fraktur</td>\n",
       "      <td>low suspicion fracture</td>\n",
       "      <td>keine Fraktur</td>\n",
       "      <td>nein</td>\n",
       "      <td>Kein Frakturnahcweis</td>\n",
       "    </tr>\n",
       "  </tbody>\n",
       "</table>\n",
       "</div>"
      ]
     },
     "execution_count": 292,
     "metadata": {},
     "output_type": "execute_result"
    }
   ],
   "execution_count": 292
  },
  {
   "metadata": {
    "ExecuteTime": {
     "end_time": "2024-09-22T14:29:10.620733Z",
     "start_time": "2024-09-22T14:29:10.601792Z"
    }
   },
   "cell_type": "code",
   "source": [
    "for col in raw_patients.columns:\n",
    "   print(raw_patients[col].value_counts())"
   ],
   "id": "4f582ab9feede558",
   "outputs": [
    {
     "name": "stdout",
     "output_type": "stream",
     "text": [
      "Diagnose Arzt vor KI\n",
      "keine Fraktur                                                              41\n",
      "Clavicula Fraktur                                                           2\n",
      "keien Fraktur                                                               2\n",
      "keine Fraktur,\\nOssifikationszentrum nicht sichtbar,\\n--> US                1\n",
      "Radiuswulsfraktur rechts                                                    1\n",
      "Radiuswulstfraktur                                                          1\n",
      "keine eindeutige Fraktur,\\nV.a. Fraktur am distalen Radius                  1\n",
      "V.a. Fraktur am Grundphalanx                                                1\n",
      "V.a. Radiusfraktur links distal                                             1\n",
      "V.a. Längsfraktur am Grundphalanx D5 links DD Gefäßkanal im Knochen         1\n",
      "V.a. Längsfraktur an der Ulna                                               1\n",
      "Fraktur an der Basis des Mittelphalanx D2 links                             1\n",
      "keine Fraktur, aber unsicher                                                1\n",
      "Keine Frakltur                                                              1\n",
      "Keine  eindeutige Fraktur\\nV.a. auf Navicularfraktur                        1\n",
      "Keine Fraktur                                                               1\n",
      "Wulsfraktur am distalen Radius                                              1\n",
      "distale Radiusfraktur (unsicher),\\n                                         1\n",
      "Keine Fraktur,\\nv.a. Toddler's                                              1\n",
      "UA-Schaftfraktur v.a prox. Radius + distale Ulna                            1\n",
      "dislozierte komplette distale UA-Fraktur                                    1\n",
      "Fraktur D3, D4, D5                                                          1\n",
      "Fraktur an der Basis des Sattelgelenks rechts                               1\n",
      "keine Fraktur                                                               1\n",
      "dislozierte Radious- + Ulnafraktur                                          1\n",
      "Nagelkranzfraktur                                                           1\n",
      "keine eindeutige Fraktur                                                    1\n",
      "suprakondyläre Fraktur Typ II                                               1\n",
      "keine eindeutige Fraktur,\\n aber V.a. Toddler's fracture                    1\n",
      "Fraktur an der Basis des\\nEndphalanx D4 links                               1\n",
      "komplette UA-Schaftfraktur                                                  1\n",
      "Malleolus med. -->\\nkeine Fraktur                                           1\n",
      "dislozierte Fraktur D5 links\\n am Kopf des Grundglieds                      1\n",
      "V.a. minimale Wulsfraktur \\nam Radius wegen Klinik                          1\n",
      "Fraktur an der Großzeh,\\n Mittelphalanx prox.                               1\n",
      "suprakondyläre Fraktur Typ I                                                1\n",
      "V.a. konsolidierte\\n Grundphalanxfraktur                                    1\n",
      "Basisfraktur am Mittelphalanx                                               1\n",
      "distale Radiuswulstfraktur                                                  1\n",
      "komplette US-Fraktur                                                        1\n",
      "Fraktur am Endphalanx D4 rechts                                             1\n",
      "Fraktur an der Basis des\\nEndphalanx D5 rechts                              1\n",
      "Basis MT5 --> keine Fraktur                                                 1\n",
      "keine eindeutige Fraktur, \\njedoch Erguss am OS, Va. Toddler's fracture     1\n",
      "isolierte Ulnaschaftfraktur\\n (Grünholzfraktur)                             1\n",
      "Spiralfraktur am Endphalanx \\nD5 links                                      1\n",
      "komplette UA-Schaftfraktur mittig,\\nteildisloziert links                    1\n",
      "unsicher Fraktur an Patella und\\n vielleicht am distalen Femur              1\n",
      "Fraktur an der Femurschaft vs. Gefäßkanal (nicht sicher)                    1\n",
      "suprakondyläre Fraktur, nicht disloziert                                    1\n",
      "Bruch Metacarpal-Knochen D5 (sicher),\\n D4(unsicher) mit Stufenbildung      1\n",
      "Fraktur an Basis der Endphalanx D1 rechts                                   1\n",
      "Fraktur am distalen Radius                                                  1\n",
      "Fraktur am Fußmittelknochen D1,\\n distal links                              1\n",
      "Ulnawulstfraktur (unsicher)                                                 1\n",
      "V.a. Fraktur am distalen Femur wegen Fett-pads                              1\n",
      "Fraktur am Kopf des Phalanx                                                 1\n",
      "Name: count, dtype: int64\n",
      "Befund KI\n",
      "no fracture                                                                                51\n",
      "high suspicion fracture                                                                     7\n",
      "No fracture                                                                                 3\n",
      "high suspicion fracture an der gleichen Stelle                                              3\n",
      "high suspicion fracture \\nan der gleichen Stelle                                            2\n",
      "low suspicion fracture                                                                      2\n",
      "no fracture,\\nlow dislocation                                                               1\n",
      "low suspicion fracture an gleicher Stelle                                                   1\n",
      "high suspicion fracture,\\ndislocatin (das stimmt nicht)                                     1\n",
      "high suspicion fracture an den gleichen Stellen                                             1\n",
      "no fracture \\n(check this out again)                                                        1\n",
      "low suspicion fracture                                                                      1\n",
      "high suspicion fracture an der Mesophalanx                                                  1\n",
      "High suspicion Fracture, Frakturen an beiden Stellen erkannt                                1\n",
      "no fracture,\\nlow suspicion dislocation                                                     1\n",
      "low suspicion \\naber an einer anderen Stelle                                                1\n",
      "no fracture, high effusion                                                                  1\n",
      "low suspicion Fraktur an der gleichen Stelle,\\nalso verdächtige Stelle erkannt              1\n",
      "high suspicion fracture an gleicher Stelle                                                  1\n",
      "low suspicion an der Basis des Grundphalanx D5 links                                        1\n",
      "high suspicion an der gleichen Stelle                                                       1\n",
      "no fracture, no effusion                                                                    1\n",
      "high suspicion fracture,\\nrichtige Slle erkannt                                             1\n",
      "low fracture, aber an einer anderen falschen Stelle,\\neigentliche Fraktur nicht erkannt     1\n",
      "no fracture, dislocation woanders                                                           1\n",
      "high suspicion fracture,\\nan der gleichen Stelle                                            1\n",
      "high suspicion fracture\\nan der gleichen Stelle                                             1\n",
      "no fracture, \\nlow suspicion for dislocation                                                1\n",
      "no fracture, but effusion                                                                   1\n",
      "low suspicion\\n an der Basis des Grundphalanx D5 links                                      1\n",
      "KI nicht vorhanden\\n (Pat. Out of study)                                                    1\n",
      "low suspicion fracture bei einer Wachstumsfuge                                              1\n",
      "no fracture,\\nlow suspicion anomaly                                                         1\n",
      "low suspicion fracture,\\n aber zeigt schon auf der gleichen Stelle                          1\n",
      "no fracture ?                                                                               1\n",
      "High suspicion fracture, \\naber hat Dislokation nicht erkannt                               1\n",
      "no frcature                                                                                 1\n",
      "Name: count, dtype: int64\n",
      "Diagnose Arzt nach KI\n",
      "keine Fraktur                                                                           46\n",
      "Fraktur                                                                                  8\n",
      "same wie vorhin beschrieben                                                              3\n",
      ",,                                                                                       2\n",
      "Fraktur wie vorhin beschrieben                                                           2\n",
      "Clavicula Fraktur                                                                        2\n",
      "Kollegin fragen,\\nkeine Fraktur sondern CRPS laut Kollegin                               1\n",
      "Fraktur an der Basis des\\nEndphalanx D4 links                                            1\n",
      "distale Radiusfraktur                                                                    1\n",
      "Fraktur rechts                                                                           1\n",
      "V.a. Fraktur am distalen Radius                                                          1\n",
      "Kollegin fragen,\\nkeine Fraktur laut Kollegin                                            1\n",
      "same as KI,\\nalso Entscheidung zum Teil geändert                                         1\n",
      "Kollegin fragen,\\ndistale Radiuswulsfraktur laut Kollegin                                1\n",
      "V.a. Fraktur der Ulna + Erguss                                                           1\n",
      "Fraktur wie vorher beschrieben                                                           1\n",
      "keine Fraktur\\nV.a. Verletzung der Außenbänder\\n--> Überweisung MRT                      1\n",
      "KI-Befund unpassend\\nvorläufige Diagnose besteht                                         1\n",
      "Keine Fraktur, US                                                                        1\n",
      "Wulstfraktur                                                                             1\n",
      "keine Fraktur,\\nv.a. Toddler's                                                           1\n",
      "Fraktur D3, D4, D5                                                                       1\n",
      "V.A. Fraktur, jedoch unsicher                                                            1\n",
      "kollegin fragen,\\nWulstfraktur am distalen Radius                                        1\n",
      "Kollegin fragen,\\nkeine Fraktur                                                          1\n",
      "isolierte Ulnaschaftfraktur                                                              1\n",
      "dislozierte Fraktur D5 links\\n am Kopf des Grundglieds                                   1\n",
      "Wulsfraktur am Radius                                                                    1\n",
      "Fraktur an der Großzeh                                                                   1\n",
      "suprakondyläre Fraktur Typ I                                                             1\n",
      "V.a. konsolidierte Grundphalanxfraktur                                                   1\n",
      "Fraktur                                                                                  1\n",
      "keine Fraktur,\\naber vielleicht Bruch der Handwurzelknochen                              1\n",
      "Fraktur, jedoch erfahrene Kollegin sagt nein,\\n und wenn dann eine Nagelkranzfraktur     1\n",
      "V.a. toddler's fracture                                                                  1\n",
      "komplette UA-Schaffraktur                                                                1\n",
      "Kollegin fragen, \\nkeine Fraktur laut Kollegin                                           1\n",
      "Befund von KI übernommen                                                                 1\n",
      "Kollegin fragen\\nkeine Fraktur laut Kollegin                                             1\n",
      "suprakondyläre Fraktur                                                                   1\n",
      "Fraktur wie virhin beschrieben                                                           1\n",
      "Nagelkranzfraktur                                                                        1\n",
      "Name: count, dtype: int64\n",
      "Änderung der Diagnose\n",
      "nein                                         89\n",
      "ja                                            8\n",
      "nein, (aber sichere in der Diagnose sah?)     1\n",
      "nein                                          1\n",
      "Name: count, dtype: int64\n",
      "Befund der Kinderradiologen\n",
      "Keine Fraktur                                                            24\n",
      "Kein sicherer Frakturnachweis                                             6\n",
      "Keine Fraktur,\\nKeine Luxation                                            5\n",
      "Kein Frakturnachweis                                                      5\n",
      "keine Fraktur                                                             4\n",
      "Fraktur                                                                   3\n",
      "nicht wesentlich dislozierte Fraktur                                      3\n",
      "nicht dislozierte Fraktur                                                 3\n",
      "Kein Hinweis auf eine Fraktur                                             3\n",
      "dislozierte Unterarmschaftfraktur                                         2\n",
      "Kein eindeutiger Frakturnachweis                                          2\n",
      "nicht wesentlich\\n dislozierte Fraktur                                    2\n",
      "Kein sicherer Nachwies einer Fraktur,\\nknöcherner Bandausriss möglich     1\n",
      "Keine Fraktur,\\nPatella Wiberg Typ III                                    1\n",
      "DD Wulsfraktur\\nDD Normvariante                                           1\n",
      "Keine Fraktur,\\nKein knöcherner Bandausriss                               1\n",
      "dislozierte Unterarmfraktur                                               1\n",
      "Keine Fraktur,\\nPatella Wiberg 2                                          1\n",
      "leicht eingestauchte distale Frakturen                                    1\n",
      "Fraktur mit leichter Einstauchung                                         1\n",
      "Kein eindeutiger Nachweis einer Fraktur                                   1\n",
      "Unterarmfraktur,\\ngering disloziert                                       1\n",
      "minimal dislozierte Nagelkranzfraktur                                     1\n",
      "kein sicherer Frakturnachweis                                             1\n",
      "Keine Fraktur,\\nnur Weichteilschwellung                                   1\n",
      "dislozierte suprakondyläre Humerusfraktur Typ II                          1\n",
      "kein Frakturnachweis                                                      1\n",
      "Claviculafraktur mit Knickbildung                                         1\n",
      "nicht dislozierte Radiuswulsfraktur                                       1\n",
      "knöcherne Absprengung  +\\nKnöcherner Bandausriss                          1\n",
      "Kein Nachweis eine Fraktur,\\n v.a. Toddler's Fracture                     1\n",
      "dislozierte Fraktur des Köpchens\\n der Grundphalanx D5 links              1\n",
      "Kein Frakturnahcweis                                                      1\n",
      "Weichteilschwellung,\\naber keine Fraktur                                  1\n",
      "nach volar eingestauchte Fraktur                                          1\n",
      "Weichteilschwellung,\\n keine Fraktur                                      1\n",
      "Kein sicherer Nachweis einer Fraktur                                      1\n",
      "dislozierte Unterarmschaftsfraktur                                        1\n",
      "V.a. nicht dislozierte Fraktur                                            1\n",
      "Kein Nachweis einer Fraktur                                               1\n",
      "nicht sicher frakturtyisch                                                1\n",
      "suprakondyläre Humerusfraktur Typ I                                       1\n",
      "Kein sicherer Nachweis einer Fraktur, od. Luxation                        1\n",
      "Ulnaschaftfraktur                                                         1\n",
      "nicht dislozierte Tibiawulsfraktur                                        1\n",
      "dislozierte Nagelkranzfraktur                                             1\n",
      "Name: count, dtype: int64\n"
     ]
    }
   ],
   "execution_count": 293
  },
  {
   "metadata": {
    "ExecuteTime": {
     "end_time": "2024-09-22T14:29:10.646056Z",
     "start_time": "2024-09-22T14:29:10.620733Z"
    }
   },
   "cell_type": "code",
   "source": [
    "negativ = ['keine','keien','Keine','no','No','nein','Kein','kein','nicht sicher frakturtyisch']\n",
    "\n",
    "raw_patients.replace(negativ, 0, regex=True, inplace=True)\n",
    "#Make sure there are no negative words left\n",
    "for col in raw_patients.columns:\n",
    "   print(f\"column: {col}\")\n",
    "   print(raw_patients[col].value_counts())"
   ],
   "id": "91acc45a9584dafd",
   "outputs": [
    {
     "name": "stdout",
     "output_type": "stream",
     "text": [
      "column: Diagnose Arzt vor KI\n",
      "Diagnose Arzt vor KI\n",
      "0                                                                 59\n",
      "Clavicula Fraktur                                                  2\n",
      "Fraktur an der Basis des Mittelphalanx D2 links                    1\n",
      "komplette UA-Schaftfraktur                                         1\n",
      "distale Radiusfraktur (unsicher),\\n                                1\n",
      "Radiuswulsfraktur rechts                                           1\n",
      "Radiuswulstfraktur                                                 1\n",
      "V.a. Fraktur am Grundphalanx                                       1\n",
      "V.a. Radiusfraktur links distal                                    1\n",
      "V.a. Längsfraktur an der Ulna                                      1\n",
      "Wulsfraktur am distalen Radius                                     1\n",
      "V.a. Fraktur am distalen Femur wegen Fett-pads                     1\n",
      "UA-Schaftfraktur v.a prox. Radius + distale Ulna                   1\n",
      "dislozierte komplette distale UA-Fraktur                           1\n",
      "Fraktur D3, D4, D5                                                 1\n",
      "Fraktur an der Basis des Sattelgelenks rechts                      1\n",
      "dislozierte Radious- + Ulnafraktur                                 1\n",
      "Nagelkranzfraktur                                                  1\n",
      "suprakondyläre Fraktur Typ II                                      1\n",
      "Fraktur an der Basis des\\nEndphalanx D4 links                      1\n",
      "Ulnawulstfraktur (unsicher)                                        1\n",
      "isolierte Ulnaschaftfraktur\\n (Grünholzfraktur)                    1\n",
      "komplette US-Fraktur                                               1\n",
      "dislozierte Fraktur D5 links\\n am Kopf des Grundglieds             1\n",
      "V.a. minimale Wulsfraktur \\nam Radius wegen Klinik                 1\n",
      "Fraktur an der Großzeh,\\n Mittelphalanx prox.                      1\n",
      "suprakondyläre Fraktur Typ I                                       1\n",
      "V.a. konsolidierte\\n Grundphalanxfraktur                           1\n",
      "Basisfraktur am Mittelphalanx                                      1\n",
      "distale Radiuswulstfraktur                                         1\n",
      "Fraktur am Endphalanx D4 rechts                                    1\n",
      "Fraktur am distalen Radius                                         1\n",
      "Fraktur an der Basis des\\nEndphalanx D5 rechts                     1\n",
      "Spiralfraktur am Endphalanx \\nD5 links                             1\n",
      "komplette UA-Schaftfraktur mittig,\\nteildisloziert links           1\n",
      "unsicher Fraktur an Patella und\\n vielleicht am distalen Femur     1\n",
      "Fraktur an der Femurschaft vs. Gefäßkanal (nicht sicher)           1\n",
      "suprakondyläre Fraktur, nicht disloziert                           1\n",
      "Fraktur an Basis der Endphalanx D1 rechts                          1\n",
      "Fraktur am Kopf des Phalanx                                        1\n",
      "Name: count, dtype: int64\n",
      "column: Befund KI\n",
      "Befund KI\n",
      "0                                                                                          65\n",
      "high suspicion fracture                                                                     7\n",
      "high suspicion fracture an der gleichen Stelle                                              3\n",
      "low suspicion fracture                                                                      2\n",
      "high suspicion fracture \\nan der gleichen Stelle                                            2\n",
      "high suspicion an der gleichen Stelle                                                       1\n",
      "low suspicion fracture an gleicher Stelle                                                   1\n",
      "high suspicion fracture,\\ndislocatin (das stimmt nicht)                                     1\n",
      "high suspicion fracture an den gleichen Stellen                                             1\n",
      "high suspicion fracture an der Mesophalanx                                                  1\n",
      "High suspicion Fracture, Frakturen an beiden Stellen erkannt                                1\n",
      "low suspicion \\naber an einer anderen Stelle                                                1\n",
      "low suspicion Fraktur an der gleichen Stelle,\\nalso verdächtige Stelle erkannt              1\n",
      "low suspicion an der Basis des Grundphalanx D5 links                                        1\n",
      "low fracture, aber an einer anderen falschen Stelle,\\neigentliche Fraktur nicht erkannt     1\n",
      "low suspicion fracture                                                                      1\n",
      "high suspicion fracture,\\nrichtige Slle erkannt                                             1\n",
      "high suspicion fracture,\\nan der gleichen Stelle                                            1\n",
      "high suspicion fracture\\nan der gleichen Stelle                                             1\n",
      "low suspicion\\n an der Basis des Grundphalanx D5 links                                      1\n",
      "KI nicht vorhanden\\n (Pat. Out of study)                                                    1\n",
      "low suspicion fracture bei einer Wachstumsfuge                                              1\n",
      "low suspicion fracture,\\n aber zeigt schon auf der gleichen Stelle                          1\n",
      "High suspicion fracture, \\naber hat Dislokation nicht erkannt                               1\n",
      "high suspicion fracture an gleicher Stelle                                                  1\n",
      "Name: count, dtype: int64\n",
      "column: Diagnose Arzt nach KI\n",
      "Diagnose Arzt nach KI\n",
      "0                                                            58\n",
      "Fraktur                                                       8\n",
      "same wie vorhin beschrieben                                   3\n",
      "Clavicula Fraktur                                             2\n",
      ",,                                                            2\n",
      "Fraktur wie vorhin beschrieben                                2\n",
      "suprakondyläre Fraktur Typ I                                  1\n",
      "V.a. konsolidierte Grundphalanxfraktur                        1\n",
      "Fraktur D3, D4, D5                                            1\n",
      "Wulstfraktur                                                  1\n",
      "Fraktur wie vorher beschrieben                                1\n",
      "same as KI,\\nalso Entscheidung zum Teil geändert              1\n",
      "Kollegin fragen,\\ndistale Radiuswulsfraktur laut Kollegin     1\n",
      "V.a. Fraktur am distalen Radius                               1\n",
      "Fraktur rechts                                                1\n",
      "dislozierte Fraktur D5 links\\n am Kopf des Grundglieds        1\n",
      "distale Radiusfraktur                                         1\n",
      "Fraktur an der Basis des\\nEndphalanx D4 links                 1\n",
      "V.A. Fraktur, jedoch unsicher                                 1\n",
      "V.a. Fraktur der Ulna + Erguss                                1\n",
      "kollegin fragen,\\nWulstfraktur am distalen Radius             1\n",
      "isolierte Ulnaschaftfraktur                                   1\n",
      "Fraktur wie virhin beschrieben                                1\n",
      "suprakondyläre Fraktur                                        1\n",
      "komplette UA-Schaffraktur                                     1\n",
      "Wulsfraktur am Radius                                         1\n",
      "V.a. toddler's fracture                                       1\n",
      "Fraktur an der Großzeh                                        1\n",
      "Fraktur                                                       1\n",
      "Nagelkranzfraktur                                             1\n",
      "Name: count, dtype: int64\n",
      "column: Änderung der Diagnose\n",
      "Änderung der Diagnose\n",
      "0     91\n",
      "ja     8\n",
      "Name: count, dtype: int64\n",
      "column: Befund der Kinderradiologen\n",
      "Befund der Kinderradiologen\n",
      "0                                                               66\n",
      "Fraktur                                                          3\n",
      "nicht dislozierte Fraktur                                        3\n",
      "nicht wesentlich dislozierte Fraktur                             3\n",
      "nicht wesentlich\\n dislozierte Fraktur                           2\n",
      "dislozierte Unterarmschaftfraktur                                2\n",
      "knöcherne Absprengung  +\\nKnöcherner Bandausriss                 1\n",
      "dislozierte suprakondyläre Humerusfraktur Typ II                 1\n",
      "minimal dislozierte Nagelkranzfraktur                            1\n",
      "Unterarmfraktur,\\ngering disloziert                              1\n",
      "Claviculafraktur mit Knickbildung                                1\n",
      "Fraktur mit leichter Einstauchung                                1\n",
      "leicht eingestauchte distale Frakturen                           1\n",
      "dislozierte Unterarmfraktur                                      1\n",
      "nicht dislozierte Tibiawulsfraktur                               1\n",
      "V.a. nicht dislozierte Fraktur                                   1\n",
      "Ulnaschaftfraktur                                                1\n",
      "nicht dislozierte Radiuswulsfraktur                              1\n",
      "suprakondyläre Humerusfraktur Typ I                              1\n",
      "dislozierte Unterarmschaftsfraktur                               1\n",
      "nach volar eingestauchte Fraktur                                 1\n",
      "dislozierte Fraktur des Köpchens\\n der Grundphalanx D5 links     1\n",
      "dislozierte Nagelkranzfraktur                                    1\n",
      "Name: count, dtype: int64\n"
     ]
    }
   ],
   "execution_count": 294
  },
  {
   "metadata": {
    "ExecuteTime": {
     "end_time": "2024-09-22T14:29:10.665002Z",
     "start_time": "2024-09-22T14:29:10.653570Z"
    }
   },
   "cell_type": "code",
   "source": [
    "binary_list = (raw_patients != 0)\n",
    "binary_list = binary_list.astype(int)\n",
    "patients = pd.DataFrame(binary_list)\n",
    "patients.head()"
   ],
   "id": "fa24306a426aee41",
   "outputs": [
    {
     "data": {
      "text/plain": [
       "   Diagnose Arzt vor KI  Befund KI  Diagnose Arzt nach KI  \\\n",
       "0                     0          0                      0   \n",
       "1                     1          1                      1   \n",
       "2                     1          1                      1   \n",
       "3                     0          0                      0   \n",
       "4                     0          1                      0   \n",
       "\n",
       "   Änderung der Diagnose  Befund der Kinderradiologen  \n",
       "0                      0                            0  \n",
       "1                      0                            1  \n",
       "2                      0                            1  \n",
       "3                      0                            0  \n",
       "4                      0                            0  "
      ],
      "text/html": [
       "<div>\n",
       "<style scoped>\n",
       "    .dataframe tbody tr th:only-of-type {\n",
       "        vertical-align: middle;\n",
       "    }\n",
       "\n",
       "    .dataframe tbody tr th {\n",
       "        vertical-align: top;\n",
       "    }\n",
       "\n",
       "    .dataframe thead th {\n",
       "        text-align: right;\n",
       "    }\n",
       "</style>\n",
       "<table border=\"1\" class=\"dataframe\">\n",
       "  <thead>\n",
       "    <tr style=\"text-align: right;\">\n",
       "      <th></th>\n",
       "      <th>Diagnose Arzt vor KI</th>\n",
       "      <th>Befund KI</th>\n",
       "      <th>Diagnose Arzt nach KI</th>\n",
       "      <th>Änderung der Diagnose</th>\n",
       "      <th>Befund der Kinderradiologen</th>\n",
       "    </tr>\n",
       "  </thead>\n",
       "  <tbody>\n",
       "    <tr>\n",
       "      <th>0</th>\n",
       "      <td>0</td>\n",
       "      <td>0</td>\n",
       "      <td>0</td>\n",
       "      <td>0</td>\n",
       "      <td>0</td>\n",
       "    </tr>\n",
       "    <tr>\n",
       "      <th>1</th>\n",
       "      <td>1</td>\n",
       "      <td>1</td>\n",
       "      <td>1</td>\n",
       "      <td>0</td>\n",
       "      <td>1</td>\n",
       "    </tr>\n",
       "    <tr>\n",
       "      <th>2</th>\n",
       "      <td>1</td>\n",
       "      <td>1</td>\n",
       "      <td>1</td>\n",
       "      <td>0</td>\n",
       "      <td>1</td>\n",
       "    </tr>\n",
       "    <tr>\n",
       "      <th>3</th>\n",
       "      <td>0</td>\n",
       "      <td>0</td>\n",
       "      <td>0</td>\n",
       "      <td>0</td>\n",
       "      <td>0</td>\n",
       "    </tr>\n",
       "    <tr>\n",
       "      <th>4</th>\n",
       "      <td>0</td>\n",
       "      <td>1</td>\n",
       "      <td>0</td>\n",
       "      <td>0</td>\n",
       "      <td>0</td>\n",
       "    </tr>\n",
       "  </tbody>\n",
       "</table>\n",
       "</div>"
      ]
     },
     "execution_count": 295,
     "metadata": {},
     "output_type": "execute_result"
    }
   ],
   "execution_count": 295
  },
  {
   "metadata": {},
   "cell_type": "markdown",
   "source": [
    "# Model Evaluation:\n",
    "## 1- Accuracy Score in Binary Classification\n",
    "\n",
    "In model evaluation for a binary classifier, **accuracy score** calculates the proportion of correct predictions (both positive and negative) out of the total number of predictions. It is defined as:\n",
    "\n",
    "\\[\n",
    "Accuracy = \\frac{\\text{Number of correct predictions}}{\\text{Total number of predictions}} = \\frac{TP + TN}{TP + TN + FP + FN}\n",
    "\\]\n",
    "\n",
    "Where:\n",
    "- **TP (True Positives)**: The model correctly predicted the positive class.\n",
    "- **TN (True Negatives)**: The model correctly predicted the negative class.\n",
    "- **FP (False Positives)**: The model incorrectly predicted the positive class when it was negative.\n",
    "- **FN (False Negatives)**: The model incorrectly predicted the negative class when it was positive.\n",
    "\n",
    "\n"
   ],
   "id": "e1f44d138b3e6e7e"
  },
  {
   "metadata": {
    "ExecuteTime": {
     "end_time": "2024-09-22T14:29:10.777927Z",
     "start_time": "2024-09-22T14:29:10.765579Z"
    }
   },
   "cell_type": "code",
   "source": [
    "doctor_diagnosis_beforeAi = np.array(patients['Diagnose Arzt vor KI'])\n",
    "doctor_diagnosis_afterAi = np.array(patients['Diagnose Arzt nach KI'])\n",
    "Ai_diagnosis = np.array(patients['Befund KI'])\n",
    "Gold_standard = np.array(patients['Befund der Kinderradiologen'])"
   ],
   "id": "6766e113955585d1",
   "outputs": [],
   "execution_count": 296
  },
  {
   "metadata": {
    "ExecuteTime": {
     "end_time": "2024-09-22T14:29:11.020021Z",
     "start_time": "2024-09-22T14:29:11.007704Z"
    }
   },
   "cell_type": "code",
   "source": [
    "accuracy_doctor_diagnosis_beforeAi = accuracy_score(doctor_diagnosis_beforeAi, Gold_standard)\n",
    "accuracy_doctor_diagnosis_afterAi = accuracy_score(doctor_diagnosis_afterAi, Gold_standard)\n",
    "accuracy_Ai_diagnosis = accuracy_score(Ai_diagnosis, Gold_standard)\n",
    "print(f'Accuracy of Doctors before Ai: {accuracy_doctor_diagnosis_beforeAi} \\nAccuracy of Doctors after Ai: {accuracy_doctor_diagnosis_afterAi} \\nAccuracy of Ai: {accuracy_Ai_diagnosis}')"
   ],
   "id": "cfcf0bf8c4577353",
   "outputs": [
    {
     "name": "stdout",
     "output_type": "stream",
     "text": [
      "Accuracy of Doctors before Ai: 0.8080808080808081 \n",
      "Accuracy of Doctors after Ai: 0.8585858585858586 \n",
      "Accuracy of Ai: 0.9090909090909091\n"
     ]
    }
   ],
   "execution_count": 297
  },
  {
   "metadata": {},
   "cell_type": "markdown",
   "source": "here we can start to notice that the accuracy of the doctor's diagnosis improved after using Ai.",
   "id": "2177e8d23c4a80ce"
  },
  {
   "metadata": {},
   "cell_type": "markdown",
   "source": [
    "## 2- Jaccard Index in a Binary Classifier\n",
    "\n",
    "The **Jaccard Index**, also known as the **Jaccard similarity coefficient**, is a metric used to evaluate the similarity between two sets of data. In the context of a binary classifier, it measures the intersection over union of the predicted positive instances and the actual positive instances."
   ],
   "id": "7760362ce7fa4fc6"
  },
  {
   "metadata": {
    "ExecuteTime": {
     "end_time": "2024-09-22T14:29:11.310724Z",
     "start_time": "2024-09-22T14:29:11.289018Z"
    }
   },
   "cell_type": "code",
   "source": [
    "from IPython.display import Image, display\n",
    "display(Image(filename='Jaccard_index.png'))"
   ],
   "id": "f2dcd4ac3080d6be",
   "outputs": [
    {
     "data": {
      "image/png": "[encoded data removed]",
      "text/plain": [
       "<IPython.core.display.Image object>"
      ]
     },
     "metadata": {},
     "output_type": "display_data"
    }
   ],
   "execution_count": 298
  },
  {
   "metadata": {
    "ExecuteTime": {
     "end_time": "2024-09-22T14:29:11.529572Z",
     "start_time": "2024-09-22T14:29:11.521454Z"
    }
   },
   "cell_type": "code",
   "source": [
    "\n",
    "display(Image(filename='Jaccard_index_formula.png'))"
   ],
   "id": "b39aea7d03b94048",
   "outputs": [
    {
     "data": {
      "image/png": "[encoded data removed]",
      "text/plain": [
       "<IPython.core.display.Image object>"
      ]
     },
     "metadata": {},
     "output_type": "display_data"
    }
   ],
   "execution_count": 299
  },
  {
   "metadata": {
    "ExecuteTime": {
     "end_time": "2024-09-22T14:29:11.588721Z",
     "start_time": "2024-09-22T14:29:11.583280Z"
    }
   },
   "cell_type": "code",
   "source": [
    "#Reference\n",
    "#1:https://www.bing.com/images/search?view=detailV2&ccid=R7OeruOt&id=CB2FB34B1110AE0FF1504369C8D02F4902802B3B&thid=OIP.R7OeruOtIk4Js4jlp8C_dQHaE-&mediaurl=https%3a%2f%2fmiro.medium.com%2fv2%2fresize%3afit%3a744%2f1*XiLRKr_Bo-VdgqVI-SvSQg.png&cdnurl=https%3a%2f%2fth.bing.com%2fth%2fid%2fR.47b39eaee3ad224e09b388e5a7c0bf75%3frik%3dOyuAAkkv0MhpQw%26pid%3dImgRaw%26r%3d0&exph=500&expw=744&q=jaccard+index&simid=608054468191060378&FORM=IRPRST&ck=17E5E74F1F4F349D91B67B0005D091BA&selectedIndex=0&itb=0\n",
    "#2: https://th.bing.com/th/id/R.f8431099301881554edc28275092be3c?rik=Pz98dUJWbx90IA&riu=http%3a%2f%2fblog.stratio.com%2fwp-content%2fuploads%2f2017%2f01%2fImage-2-%E2%80%93-Jaccard-Index-formula.png&ehk=mPsG%2bYR%2b49kvtHD9laZdGsHCT0Apk8rG6TbxQfQaddA%3d&risl=&pid=ImgRaw&r=0\n"
   ],
   "id": "7af1da11f7190c04",
   "outputs": [],
   "execution_count": 300
  },
  {
   "metadata": {},
   "cell_type": "markdown",
   "source": [
    "The Jaccard Index ranges from 0 to 1:\n",
    "- **1** means perfect agreement (all predicted positives are correct and all actual positives are predicted).\n",
    "- **0** means no agreement (the classifier failed to predict any positives correctly).\n",
    "\n",
    "In essence, the Jaccard Index measures the proportion of positive instances that are correctly identified by the classifier, considering both false positives and false negatives. This makes it useful in situations where you want to assess the overlap between actual and predicted positives.\n"
   ],
   "id": "9b61a3ca24cd4054"
  },
  {
   "metadata": {
    "ExecuteTime": {
     "end_time": "2024-09-22T14:29:11.726530Z",
     "start_time": "2024-09-22T14:29:11.709293Z"
    }
   },
   "cell_type": "code",
   "source": [
    "jaccard_doctor_diagnosis_beforeAi = jaccard_score(doctor_diagnosis_beforeAi, Gold_standard)\n",
    "jaccard_doctor_diagnosis_afterAi = jaccard_score(doctor_diagnosis_afterAi, Gold_standard)\n",
    "jaccard_Ai_diagnosis = jaccard_score(Ai_diagnosis, Gold_standard)\n",
    "print(f'Jaccard Index of Doctors before Ai: {jaccard_doctor_diagnosis_beforeAi} \\nJaccard Index of Doctors after Ai: {jaccard_doctor_diagnosis_afterAi} \\nJaccard Index of Ai: {jaccard_Ai_diagnosis}')"
   ],
   "id": "ceb3c6b18c52accf",
   "outputs": [
    {
     "name": "stdout",
     "output_type": "stream",
     "text": [
      "Jaccard Index of Doctors before Ai: 0.5869565217391305 \n",
      "Jaccard Index of Doctors after Ai: 0.6818181818181818 \n",
      "Jaccard Index of Ai: 0.7631578947368421\n"
     ]
    }
   ],
   "execution_count": 301
  },
  {
   "metadata": {},
   "cell_type": "markdown",
   "source": [
    "## 3- Confusion Matrix in Binary Classification:\n",
    "### 3.1- Recall (Sensitivity) \n",
    "### 3.2- Accuracy\n",
    "### 3.3- f1-score\n",
    "\n"
   ],
   "id": "c9d6016b27f074c9"
  },
  {
   "metadata": {
    "ExecuteTime": {
     "end_time": "2024-09-22T14:29:11.772145Z",
     "start_time": "2024-09-22T14:29:11.758876Z"
    }
   },
   "cell_type": "code",
   "source": "patients.head()",
   "id": "1332abbbb188e6ae",
   "outputs": [
    {
     "data": {
      "text/plain": [
       "   Diagnose Arzt vor KI  Befund KI  Diagnose Arzt nach KI  \\\n",
       "0                     0          0                      0   \n",
       "1                     1          1                      1   \n",
       "2                     1          1                      1   \n",
       "3                     0          0                      0   \n",
       "4                     0          1                      0   \n",
       "\n",
       "   Änderung der Diagnose  Befund der Kinderradiologen  \n",
       "0                      0                            0  \n",
       "1                      0                            1  \n",
       "2                      0                            1  \n",
       "3                      0                            0  \n",
       "4                      0                            0  "
      ],
      "text/html": [
       "<div>\n",
       "<style scoped>\n",
       "    .dataframe tbody tr th:only-of-type {\n",
       "        vertical-align: middle;\n",
       "    }\n",
       "\n",
       "    .dataframe tbody tr th {\n",
       "        vertical-align: top;\n",
       "    }\n",
       "\n",
       "    .dataframe thead th {\n",
       "        text-align: right;\n",
       "    }\n",
       "</style>\n",
       "<table border=\"1\" class=\"dataframe\">\n",
       "  <thead>\n",
       "    <tr style=\"text-align: right;\">\n",
       "      <th></th>\n",
       "      <th>Diagnose Arzt vor KI</th>\n",
       "      <th>Befund KI</th>\n",
       "      <th>Diagnose Arzt nach KI</th>\n",
       "      <th>Änderung der Diagnose</th>\n",
       "      <th>Befund der Kinderradiologen</th>\n",
       "    </tr>\n",
       "  </thead>\n",
       "  <tbody>\n",
       "    <tr>\n",
       "      <th>0</th>\n",
       "      <td>0</td>\n",
       "      <td>0</td>\n",
       "      <td>0</td>\n",
       "      <td>0</td>\n",
       "      <td>0</td>\n",
       "    </tr>\n",
       "    <tr>\n",
       "      <th>1</th>\n",
       "      <td>1</td>\n",
       "      <td>1</td>\n",
       "      <td>1</td>\n",
       "      <td>0</td>\n",
       "      <td>1</td>\n",
       "    </tr>\n",
       "    <tr>\n",
       "      <th>2</th>\n",
       "      <td>1</td>\n",
       "      <td>1</td>\n",
       "      <td>1</td>\n",
       "      <td>0</td>\n",
       "      <td>1</td>\n",
       "    </tr>\n",
       "    <tr>\n",
       "      <th>3</th>\n",
       "      <td>0</td>\n",
       "      <td>0</td>\n",
       "      <td>0</td>\n",
       "      <td>0</td>\n",
       "      <td>0</td>\n",
       "    </tr>\n",
       "    <tr>\n",
       "      <th>4</th>\n",
       "      <td>0</td>\n",
       "      <td>1</td>\n",
       "      <td>0</td>\n",
       "      <td>0</td>\n",
       "      <td>0</td>\n",
       "    </tr>\n",
       "  </tbody>\n",
       "</table>\n",
       "</div>"
      ]
     },
     "execution_count": 302,
     "metadata": {},
     "output_type": "execute_result"
    }
   ],
   "execution_count": 302
  },
  {
   "metadata": {
    "ExecuteTime": {
     "end_time": "2024-09-22T14:29:11.851136Z",
     "start_time": "2024-09-22T14:29:11.843225Z"
    }
   },
   "cell_type": "code",
   "source": [
    "cm = confusion_matrix(doctor_diagnosis_beforeAi, Gold_standard)\n",
    "print(cm)\n"
   ],
   "id": "314f47703c783d35",
   "outputs": [
    {
     "name": "stdout",
     "output_type": "stream",
     "text": [
      "[[53  6]\n",
      " [13 27]]\n"
     ]
    }
   ],
   "execution_count": 303
  },
  {
   "metadata": {
    "ExecuteTime": {
     "end_time": "2024-09-22T14:29:11.941198Z",
     "start_time": "2024-09-22T14:29:11.878673Z"
    }
   },
   "cell_type": "code",
   "source": [
    "import plotly.express as px\n",
    "cm_df = pd.DataFrame(cm, index=[\"No Fracture\", \"Fracture\"], columns=[\"No Fracture\", \"Fracture\"])\n",
    "\n",
    "# Plotly heatmap\n",
    "fig = px.imshow(cm_df, text_auto=True, labels=dict(x=\"Predicted\", y=\"Actual\", color=\"Count\"), \n",
    "                title=\"Confusion Matrix of doctor before Ai\")\n",
    "fig.show()"
   ],
   "id": "6bc0de3caaea71fc",
   "outputs": [
    {
     "data": {
      "application/vnd.plotly.v1+json": {
       "data": [
        {
         "coloraxis": "coloraxis",
         "name": "0",
         "texttemplate": "%{z}",
         "x": [
          "No Fracture",
          "Fracture"
         ],
         "y": [
          "No Fracture",
          "Fracture"
         ],
         "z": [
          [
           53,
           6
          ],
          [
           13,
           27
          ]
         ],
         "type": "heatmap",
         "xaxis": "x",
         "yaxis": "y",
         "hovertemplate": "Predicted: %{x}<br>Actual: %{y}<br>Count: %{z}<extra></extra>"
        }
       ],
       "layout": {
        "template": {
         "data": {
          "histogram2dcontour": [
           {
            "type": "histogram2dcontour",
            "colorbar": {
             "outlinewidth": 0,
             "ticks": ""
            },
            "colorscale": [
             [
              0.0,
              "#0d0887"
             ],
             [
              0.1111111111111111,
              "#46039f"
             ],
             [
              0.2222222222222222,
              "#7201a8"
             ],
             [
              0.3333333333333333,
              "#9c179e"
             ],
             [
              0.4444444444444444,
              "#bd3786"
             ],
             [
              0.5555555555555556,
              "#d8576b"
             ],
             [
              0.6666666666666666,
              "#ed7953"
             ],
             [
              0.7777777777777778,
              "#fb9f3a"
             ],
             [
              0.8888888888888888,
              "#fdca26"
             ],
             [
              1.0,
              "#f0f921"
             ]
            ]
           }
          ],
          "choropleth": [
           {
            "type": "choropleth",
            "colorbar": {
             "outlinewidth": 0,
             "ticks": ""
            }
           }
          ],
          "histogram2d": [
           {
            "type": "histogram2d",
            "colorbar": {
             "outlinewidth": 0,
             "ticks": ""
            },
            "colorscale": [
             [
              0.0,
              "#0d0887"
             ],
             [
              0.1111111111111111,
              "#46039f"
             ],
             [
              0.2222222222222222,
              "#7201a8"
             ],
             [
              0.3333333333333333,
              "#9c179e"
             ],
             [
              0.4444444444444444,
              "#bd3786"
             ],
             [
              0.5555555555555556,
              "#d8576b"
             ],
             [
              0.6666666666666666,
              "#ed7953"
             ],
             [
              0.7777777777777778,
              "#fb9f3a"
             ],
             [
              0.8888888888888888,
              "#fdca26"
             ],
             [
              1.0,
              "#f0f921"
             ]
            ]
           }
          ],
          "heatmap": [
           {
            "type": "heatmap",
            "colorbar": {
             "outlinewidth": 0,
             "ticks": ""
            },
            "colorscale": [
             [
              0.0,
              "#0d0887"
             ],
             [
              0.1111111111111111,
              "#46039f"
             ],
             [
              0.2222222222222222,
              "#7201a8"
             ],
             [
              0.3333333333333333,
              "#9c179e"
             ],
             [
              0.4444444444444444,
              "#bd3786"
             ],
             [
              0.5555555555555556,
              "#d8576b"
             ],
             [
              0.6666666666666666,
              "#ed7953"
             ],
             [
              0.7777777777777778,
              "#fb9f3a"
             ],
             [
              0.8888888888888888,
              "#fdca26"
             ],
             [
              1.0,
              "#f0f921"
             ]
            ]
           }
          ],
          "heatmapgl": [
           {
            "type": "heatmapgl",
            "colorbar": {
             "outlinewidth": 0,
             "ticks": ""
            },
            "colorscale": [
             [
              0.0,
              "#0d0887"
             ],
             [
              0.1111111111111111,
              "#46039f"
             ],
             [
              0.2222222222222222,
              "#7201a8"
             ],
             [
              0.3333333333333333,
              "#9c179e"
             ],
             [
              0.4444444444444444,
              "#bd3786"
             ],
             [
              0.5555555555555556,
              "#d8576b"
             ],
             [
              0.6666666666666666,
              "#ed7953"
             ],
             [
              0.7777777777777778,
              "#fb9f3a"
             ],
             [
              0.8888888888888888,
              "#fdca26"
             ],
             [
              1.0,
              "#f0f921"
             ]
            ]
           }
          ],
          "contourcarpet": [
           {
            "type": "contourcarpet",
            "colorbar": {
             "outlinewidth": 0,
             "ticks": ""
            }
           }
          ],
          "contour": [
           {
            "type": "contour",
            "colorbar": {
             "outlinewidth": 0,
             "ticks": ""
            },
            "colorscale": [
             [
              0.0,
              "#0d0887"
             ],
             [
              0.1111111111111111,
              "#46039f"
             ],
             [
              0.2222222222222222,
              "#7201a8"
             ],
             [
              0.3333333333333333,
              "#9c179e"
             ],
             [
              0.4444444444444444,
              "#bd3786"
             ],
             [
              0.5555555555555556,
              "#d8576b"
             ],
             [
              0.6666666666666666,
              "#ed7953"
             ],
             [
              0.7777777777777778,
              "#fb9f3a"
             ],
             [
              0.8888888888888888,
              "#fdca26"
             ],
             [
              1.0,
              "#f0f921"
             ]
            ]
           }
          ],
          "surface": [
           {
            "type": "surface",
            "colorbar": {
             "outlinewidth": 0,
             "ticks": ""
            },
            "colorscale": [
             [
              0.0,
              "#0d0887"
             ],
             [
              0.1111111111111111,
              "#46039f"
             ],
             [
              0.2222222222222222,
              "#7201a8"
             ],
             [
              0.3333333333333333,
              "#9c179e"
             ],
             [
              0.4444444444444444,
              "#bd3786"
             ],
             [
              0.5555555555555556,
              "#d8576b"
             ],
             [
              0.6666666666666666,
              "#ed7953"
             ],
             [
              0.7777777777777778,
              "#fb9f3a"
             ],
             [
              0.8888888888888888,
              "#fdca26"
             ],
             [
              1.0,
              "#f0f921"
             ]
            ]
           }
          ],
          "mesh3d": [
           {
            "type": "mesh3d",
            "colorbar": {
             "outlinewidth": 0,
             "ticks": ""
            }
           }
          ],
          "scatter": [
           {
            "fillpattern": {
             "fillmode": "overlay",
             "size": 10,
             "solidity": 0.2
            },
            "type": "scatter"
           }
          ],
          "parcoords": [
           {
            "type": "parcoords",
            "line": {
             "colorbar": {
              "outlinewidth": 0,
              "ticks": ""
             }
            }
           }
          ],
          "scatterpolargl": [
           {
            "type": "scatterpolargl",
            "marker": {
             "colorbar": {
              "outlinewidth": 0,
              "ticks": ""
             }
            }
           }
          ],
          "bar": [
           {
            "error_x": {
             "color": "#2a3f5f"
            },
            "error_y": {
             "color": "#2a3f5f"
            },
            "marker": {
             "line": {
              "color": "#E5ECF6",
              "width": 0.5
             },
             "pattern": {
              "fillmode": "overlay",
              "size": 10,
              "solidity": 0.2
             }
            },
            "type": "bar"
           }
          ],
          "scattergeo": [
           {
            "type": "scattergeo",
            "marker": {
             "colorbar": {
              "outlinewidth": 0,
              "ticks": ""
             }
            }
           }
          ],
          "scatterpolar": [
           {
            "type": "scatterpolar",
            "marker": {
             "colorbar": {
              "outlinewidth": 0,
              "ticks": ""
             }
            }
           }
          ],
          "histogram": [
           {
            "marker": {
             "pattern": {
              "fillmode": "overlay",
              "size": 10,
              "solidity": 0.2
             }
            },
            "type": "histogram"
           }
          ],
          "scattergl": [
           {
            "type": "scattergl",
            "marker": {
             "colorbar": {
              "outlinewidth": 0,
              "ticks": ""
             }
            }
           }
          ],
          "scatter3d": [
           {
            "type": "scatter3d",
            "line": {
             "colorbar": {
              "outlinewidth": 0,
              "ticks": ""
             }
            },
            "marker": {
             "colorbar": {
              "outlinewidth": 0,
              "ticks": ""
             }
            }
           }
          ],
          "scattermapbox": [
           {
            "type": "scattermapbox",
            "marker": {
             "colorbar": {
              "outlinewidth": 0,
              "ticks": ""
             }
            }
           }
          ],
          "scatterternary": [
           {
            "type": "scatterternary",
            "marker": {
             "colorbar": {
              "outlinewidth": 0,
              "ticks": ""
             }
            }
           }
          ],
          "scattercarpet": [
           {
            "type": "scattercarpet",
            "marker": {
             "colorbar": {
              "outlinewidth": 0,
              "ticks": ""
             }
            }
           }
          ],
          "carpet": [
           {
            "aaxis": {
             "endlinecolor": "#2a3f5f",
             "gridcolor": "white",
             "linecolor": "white",
             "minorgridcolor": "white",
             "startlinecolor": "#2a3f5f"
            },
            "baxis": {
             "endlinecolor": "#2a3f5f",
             "gridcolor": "white",
             "linecolor": "white",
             "minorgridcolor": "white",
             "startlinecolor": "#2a3f5f"
            },
            "type": "carpet"
           }
          ],
          "table": [
           {
            "cells": {
             "fill": {
              "color": "#EBF0F8"
             },
             "line": {
              "color": "white"
             }
            },
            "header": {
             "fill": {
              "color": "#C8D4E3"
             },
             "line": {
              "color": "white"
             }
            },
            "type": "table"
           }
          ],
          "barpolar": [
           {
            "marker": {
             "line": {
              "color": "#E5ECF6",
              "width": 0.5
             },
             "pattern": {
              "fillmode": "overlay",
              "size": 10,
              "solidity": 0.2
             }
            },
            "type": "barpolar"
           }
          ],
          "pie": [
           {
            "automargin": true,
            "type": "pie"
           }
          ]
         },
         "layout": {
          "autotypenumbers": "strict",
          "colorway": [
           "#636efa",
           "#EF553B",
           "#00cc96",
           "#ab63fa",
           "#FFA15A",
           "#19d3f3",
           "#FF6692",
           "#B6E880",
           "#FF97FF",
           "#FECB52"
          ],
          "font": {
           "color": "#2a3f5f"
          },
          "hovermode": "closest",
          "hoverlabel": {
           "align": "left"
          },
          "paper_bgcolor": "white",
          "plot_bgcolor": "#E5ECF6",
          "polar": {
           "bgcolor": "#E5ECF6",
           "angularaxis": {
            "gridcolor": "white",
            "linecolor": "white",
            "ticks": ""
           },
           "radialaxis": {
            "gridcolor": "white",
            "linecolor": "white",
            "ticks": ""
           }
          },
          "ternary": {
           "bgcolor": "#E5ECF6",
           "aaxis": {
            "gridcolor": "white",
            "linecolor": "white",
            "ticks": ""
           },
           "baxis": {
            "gridcolor": "white",
            "linecolor": "white",
            "ticks": ""
           },
           "caxis": {
            "gridcolor": "white",
            "linecolor": "white",
            "ticks": ""
           }
          },
          "coloraxis": {
           "colorbar": {
            "outlinewidth": 0,
            "ticks": ""
           }
          },
          "colorscale": {
           "sequential": [
            [
             0.0,
             "#0d0887"
            ],
            [
             0.1111111111111111,
             "#46039f"
            ],
            [
             0.2222222222222222,
             "#7201a8"
            ],
            [
             0.3333333333333333,
             "#9c179e"
            ],
            [
             0.4444444444444444,
             "#bd3786"
            ],
            [
             0.5555555555555556,
             "#d8576b"
            ],
            [
             0.6666666666666666,
             "#ed7953"
            ],
            [
             0.7777777777777778,
             "#fb9f3a"
            ],
            [
             0.8888888888888888,
             "#fdca26"
            ],
            [
             1.0,
             "#f0f921"
            ]
           ],
           "sequentialminus": [
            [
             0.0,
             "#0d0887"
            ],
            [
             0.1111111111111111,
             "#46039f"
            ],
            [
             0.2222222222222222,
             "#7201a8"
            ],
            [
             0.3333333333333333,
             "#9c179e"
            ],
            [
             0.4444444444444444,
             "#bd3786"
            ],
            [
             0.5555555555555556,
             "#d8576b"
            ],
            [
             0.6666666666666666,
             "#ed7953"
            ],
            [
             0.7777777777777778,
             "#fb9f3a"
            ],
            [
             0.8888888888888888,
             "#fdca26"
            ],
            [
             1.0,
             "#f0f921"
            ]
           ],
           "diverging": [
            [
             0,
             "#8e0152"
            ],
            [
             0.1,
             "#c51b7d"
            ],
            [
             0.2,
             "#de77ae"
            ],
            [
             0.3,
             "#f1b6da"
            ],
            [
             0.4,
             "#fde0ef"
            ],
            [
             0.5,
             "#f7f7f7"
            ],
            [
             0.6,
             "#e6f5d0"
            ],
            [
             0.7,
             "#b8e186"
            ],
            [
             0.8,
             "#7fbc41"
            ],
            [
             0.9,
             "#4d9221"
            ],
            [
             1,
             "#276419"
            ]
           ]
          },
          "xaxis": {
           "gridcolor": "white",
           "linecolor": "white",
           "ticks": "",
           "title": {
            "standoff": 15
           },
           "zerolinecolor": "white",
           "automargin": true,
           "zerolinewidth": 2
          },
          "yaxis": {
           "gridcolor": "white",
           "linecolor": "white",
           "ticks": "",
           "title": {
            "standoff": 15
           },
           "zerolinecolor": "white",
           "automargin": true,
           "zerolinewidth": 2
          },
          "scene": {
           "xaxis": {
            "backgroundcolor": "#E5ECF6",
            "gridcolor": "white",
            "linecolor": "white",
            "showbackground": true,
            "ticks": "",
            "zerolinecolor": "white",
            "gridwidth": 2
           },
           "yaxis": {
            "backgroundcolor": "#E5ECF6",
            "gridcolor": "white",
            "linecolor": "white",
            "showbackground": true,
            "ticks": "",
            "zerolinecolor": "white",
            "gridwidth": 2
           },
           "zaxis": {
            "backgroundcolor": "#E5ECF6",
            "gridcolor": "white",
            "linecolor": "white",
            "showbackground": true,
            "ticks": "",
            "zerolinecolor": "white",
            "gridwidth": 2
           }
          },
          "shapedefaults": {
           "line": {
            "color": "#2a3f5f"
           }
          },
          "annotationdefaults": {
           "arrowcolor": "#2a3f5f",
           "arrowhead": 0,
           "arrowwidth": 1
          },
          "geo": {
           "bgcolor": "white",
           "landcolor": "#E5ECF6",
           "subunitcolor": "white",
           "showland": true,
           "showlakes": true,
           "lakecolor": "white"
          },
          "title": {
           "x": 0.05
          },
          "mapbox": {
           "style": "light"
          }
         }
        },
        "xaxis": {
         "anchor": "y",
         "domain": [
          0.0,
          1.0
         ],
         "scaleanchor": "y",
         "constrain": "domain",
         "title": {
          "text": "Predicted"
         }
        },
        "yaxis": {
         "anchor": "x",
         "domain": [
          0.0,
          1.0
         ],
         "autorange": "reversed",
         "constrain": "domain",
         "title": {
          "text": "Actual"
         }
        },
        "coloraxis": {
         "colorbar": {
          "title": {
           "text": "Count"
          }
         },
         "colorscale": [
          [
           0.0,
           "#0d0887"
          ],
          [
           0.1111111111111111,
           "#46039f"
          ],
          [
           0.2222222222222222,
           "#7201a8"
          ],
          [
           0.3333333333333333,
           "#9c179e"
          ],
          [
           0.4444444444444444,
           "#bd3786"
          ],
          [
           0.5555555555555556,
           "#d8576b"
          ],
          [
           0.6666666666666666,
           "#ed7953"
          ],
          [
           0.7777777777777778,
           "#fb9f3a"
          ],
          [
           0.8888888888888888,
           "#fdca26"
          ],
          [
           1.0,
           "#f0f921"
          ]
         ]
        },
        "title": {
         "text": "Confusion Matrix of doctor before Ai"
        }
       },
       "config": {
        "plotlyServerURL": "https://plot.ly"
       }
      },
      "text/html": [
       "<div>                            <div id=\"46dd1424-9d92-4c49-ad52-5e410e01fbc0\" class=\"plotly-graph-div\" style=\"height:525px; width:100%;\"></div>            <script type=\"text/javascript\">                require([\"plotly\"], function(Plotly) {                    window.PLOTLYENV=window.PLOTLYENV || {};                                    if (document.getElementById(\"46dd1424-9d92-4c49-ad52-5e410e01fbc0\")) {                    Plotly.newPlot(                        \"46dd1424-9d92-4c49-ad52-5e410e01fbc0\",                        [{\"coloraxis\":\"coloraxis\",\"name\":\"0\",\"texttemplate\":\"%{z}\",\"x\":[\"No Fracture\",\"Fracture\"],\"y\":[\"No Fracture\",\"Fracture\"],\"z\":[[53,6],[13,27]],\"type\":\"heatmap\",\"xaxis\":\"x\",\"yaxis\":\"y\",\"hovertemplate\":\"Predicted: %{x}<br>Actual: %{y}<br>Count: %{z}<extra></extra>\"}],                        {\"template\":{\"data\":{\"histogram2dcontour\":[{\"type\":\"histogram2dcontour\",\"colorbar\":{\"outlinewidth\":0,\"ticks\":\"\"},\"colorscale\":[[0.0,\"#0d0887\"],[0.1111111111111111,\"#46039f\"],[0.2222222222222222,\"#7201a8\"],[0.3333333333333333,\"#9c179e\"],[0.4444444444444444,\"#bd3786\"],[0.5555555555555556,\"#d8576b\"],[0.6666666666666666,\"#ed7953\"],[0.7777777777777778,\"#fb9f3a\"],[0.8888888888888888,\"#fdca26\"],[1.0,\"#f0f921\"]]}],\"choropleth\":[{\"type\":\"choropleth\",\"colorbar\":{\"outlinewidth\":0,\"ticks\":\"\"}}],\"histogram2d\":[{\"type\":\"histogram2d\",\"colorbar\":{\"outlinewidth\":0,\"ticks\":\"\"},\"colorscale\":[[0.0,\"#0d0887\"],[0.1111111111111111,\"#46039f\"],[0.2222222222222222,\"#7201a8\"],[0.3333333333333333,\"#9c179e\"],[0.4444444444444444,\"#bd3786\"],[0.5555555555555556,\"#d8576b\"],[0.6666666666666666,\"#ed7953\"],[0.7777777777777778,\"#fb9f3a\"],[0.8888888888888888,\"#fdca26\"],[1.0,\"#f0f921\"]]}],\"heatmap\":[{\"type\":\"heatmap\",\"colorbar\":{\"outlinewidth\":0,\"ticks\":\"\"},\"colorscale\":[[0.0,\"#0d0887\"],[0.1111111111111111,\"#46039f\"],[0.2222222222222222,\"#7201a8\"],[0.3333333333333333,\"#9c179e\"],[0.4444444444444444,\"#bd3786\"],[0.5555555555555556,\"#d8576b\"],[0.6666666666666666,\"#ed7953\"],[0.7777777777777778,\"#fb9f3a\"],[0.8888888888888888,\"#fdca26\"],[1.0,\"#f0f921\"]]}],\"heatmapgl\":[{\"type\":\"heatmapgl\",\"colorbar\":{\"outlinewidth\":0,\"ticks\":\"\"},\"colorscale\":[[0.0,\"#0d0887\"],[0.1111111111111111,\"#46039f\"],[0.2222222222222222,\"#7201a8\"],[0.3333333333333333,\"#9c179e\"],[0.4444444444444444,\"#bd3786\"],[0.5555555555555556,\"#d8576b\"],[0.6666666666666666,\"#ed7953\"],[0.7777777777777778,\"#fb9f3a\"],[0.8888888888888888,\"#fdca26\"],[1.0,\"#f0f921\"]]}],\"contourcarpet\":[{\"type\":\"contourcarpet\",\"colorbar\":{\"outlinewidth\":0,\"ticks\":\"\"}}],\"contour\":[{\"type\":\"contour\",\"colorbar\":{\"outlinewidth\":0,\"ticks\":\"\"},\"colorscale\":[[0.0,\"#0d0887\"],[0.1111111111111111,\"#46039f\"],[0.2222222222222222,\"#7201a8\"],[0.3333333333333333,\"#9c179e\"],[0.4444444444444444,\"#bd3786\"],[0.5555555555555556,\"#d8576b\"],[0.6666666666666666,\"#ed7953\"],[0.7777777777777778,\"#fb9f3a\"],[0.8888888888888888,\"#fdca26\"],[1.0,\"#f0f921\"]]}],\"surface\":[{\"type\":\"surface\",\"colorbar\":{\"outlinewidth\":0,\"ticks\":\"\"},\"colorscale\":[[0.0,\"#0d0887\"],[0.1111111111111111,\"#46039f\"],[0.2222222222222222,\"#7201a8\"],[0.3333333333333333,\"#9c179e\"],[0.4444444444444444,\"#bd3786\"],[0.5555555555555556,\"#d8576b\"],[0.6666666666666666,\"#ed7953\"],[0.7777777777777778,\"#fb9f3a\"],[0.8888888888888888,\"#fdca26\"],[1.0,\"#f0f921\"]]}],\"mesh3d\":[{\"type\":\"mesh3d\",\"colorbar\":{\"outlinewidth\":0,\"ticks\":\"\"}}],\"scatter\":[{\"fillpattern\":{\"fillmode\":\"overlay\",\"size\":10,\"solidity\":0.2},\"type\":\"scatter\"}],\"parcoords\":[{\"type\":\"parcoords\",\"line\":{\"colorbar\":{\"outlinewidth\":0,\"ticks\":\"\"}}}],\"scatterpolargl\":[{\"type\":\"scatterpolargl\",\"marker\":{\"colorbar\":{\"outlinewidth\":0,\"ticks\":\"\"}}}],\"bar\":[{\"error_x\":{\"color\":\"#2a3f5f\"},\"error_y\":{\"color\":\"#2a3f5f\"},\"marker\":{\"line\":{\"color\":\"#E5ECF6\",\"width\":0.5},\"pattern\":{\"fillmode\":\"overlay\",\"size\":10,\"solidity\":0.2}},\"type\":\"bar\"}],\"scattergeo\":[{\"type\":\"scattergeo\",\"marker\":{\"colorbar\":{\"outlinewidth\":0,\"ticks\":\"\"}}}],\"scatterpolar\":[{\"type\":\"scatterpolar\",\"marker\":{\"colorbar\":{\"outlinewidth\":0,\"ticks\":\"\"}}}],\"histogram\":[{\"marker\":{\"pattern\":{\"fillmode\":\"overlay\",\"size\":10,\"solidity\":0.2}},\"type\":\"histogram\"}],\"scattergl\":[{\"type\":\"scattergl\",\"marker\":{\"colorbar\":{\"outlinewidth\":0,\"ticks\":\"\"}}}],\"scatter3d\":[{\"type\":\"scatter3d\",\"line\":{\"colorbar\":{\"outlinewidth\":0,\"ticks\":\"\"}},\"marker\":{\"colorbar\":{\"outlinewidth\":0,\"ticks\":\"\"}}}],\"scattermapbox\":[{\"type\":\"scattermapbox\",\"marker\":{\"colorbar\":{\"outlinewidth\":0,\"ticks\":\"\"}}}],\"scatterternary\":[{\"type\":\"scatterternary\",\"marker\":{\"colorbar\":{\"outlinewidth\":0,\"ticks\":\"\"}}}],\"scattercarpet\":[{\"type\":\"scattercarpet\",\"marker\":{\"colorbar\":{\"outlinewidth\":0,\"ticks\":\"\"}}}],\"carpet\":[{\"aaxis\":{\"endlinecolor\":\"#2a3f5f\",\"gridcolor\":\"white\",\"linecolor\":\"white\",\"minorgridcolor\":\"white\",\"startlinecolor\":\"#2a3f5f\"},\"baxis\":{\"endlinecolor\":\"#2a3f5f\",\"gridcolor\":\"white\",\"linecolor\":\"white\",\"minorgridcolor\":\"white\",\"startlinecolor\":\"#2a3f5f\"},\"type\":\"carpet\"}],\"table\":[{\"cells\":{\"fill\":{\"color\":\"#EBF0F8\"},\"line\":{\"color\":\"white\"}},\"header\":{\"fill\":{\"color\":\"#C8D4E3\"},\"line\":{\"color\":\"white\"}},\"type\":\"table\"}],\"barpolar\":[{\"marker\":{\"line\":{\"color\":\"#E5ECF6\",\"width\":0.5},\"pattern\":{\"fillmode\":\"overlay\",\"size\":10,\"solidity\":0.2}},\"type\":\"barpolar\"}],\"pie\":[{\"automargin\":true,\"type\":\"pie\"}]},\"layout\":{\"autotypenumbers\":\"strict\",\"colorway\":[\"#636efa\",\"#EF553B\",\"#00cc96\",\"#ab63fa\",\"#FFA15A\",\"#19d3f3\",\"#FF6692\",\"#B6E880\",\"#FF97FF\",\"#FECB52\"],\"font\":{\"color\":\"#2a3f5f\"},\"hovermode\":\"closest\",\"hoverlabel\":{\"align\":\"left\"},\"paper_bgcolor\":\"white\",\"plot_bgcolor\":\"#E5ECF6\",\"polar\":{\"bgcolor\":\"#E5ECF6\",\"angularaxis\":{\"gridcolor\":\"white\",\"linecolor\":\"white\",\"ticks\":\"\"},\"radialaxis\":{\"gridcolor\":\"white\",\"linecolor\":\"white\",\"ticks\":\"\"}},\"ternary\":{\"bgcolor\":\"#E5ECF6\",\"aaxis\":{\"gridcolor\":\"white\",\"linecolor\":\"white\",\"ticks\":\"\"},\"baxis\":{\"gridcolor\":\"white\",\"linecolor\":\"white\",\"ticks\":\"\"},\"caxis\":{\"gridcolor\":\"white\",\"linecolor\":\"white\",\"ticks\":\"\"}},\"coloraxis\":{\"colorbar\":{\"outlinewidth\":0,\"ticks\":\"\"}},\"colorscale\":{\"sequential\":[[0.0,\"#0d0887\"],[0.1111111111111111,\"#46039f\"],[0.2222222222222222,\"#7201a8\"],[0.3333333333333333,\"#9c179e\"],[0.4444444444444444,\"#bd3786\"],[0.5555555555555556,\"#d8576b\"],[0.6666666666666666,\"#ed7953\"],[0.7777777777777778,\"#fb9f3a\"],[0.8888888888888888,\"#fdca26\"],[1.0,\"#f0f921\"]],\"sequentialminus\":[[0.0,\"#0d0887\"],[0.1111111111111111,\"#46039f\"],[0.2222222222222222,\"#7201a8\"],[0.3333333333333333,\"#9c179e\"],[0.4444444444444444,\"#bd3786\"],[0.5555555555555556,\"#d8576b\"],[0.6666666666666666,\"#ed7953\"],[0.7777777777777778,\"#fb9f3a\"],[0.8888888888888888,\"#fdca26\"],[1.0,\"#f0f921\"]],\"diverging\":[[0,\"#8e0152\"],[0.1,\"#c51b7d\"],[0.2,\"#de77ae\"],[0.3,\"#f1b6da\"],[0.4,\"#fde0ef\"],[0.5,\"#f7f7f7\"],[0.6,\"#e6f5d0\"],[0.7,\"#b8e186\"],[0.8,\"#7fbc41\"],[0.9,\"#4d9221\"],[1,\"#276419\"]]},\"xaxis\":{\"gridcolor\":\"white\",\"linecolor\":\"white\",\"ticks\":\"\",\"title\":{\"standoff\":15},\"zerolinecolor\":\"white\",\"automargin\":true,\"zerolinewidth\":2},\"yaxis\":{\"gridcolor\":\"white\",\"linecolor\":\"white\",\"ticks\":\"\",\"title\":{\"standoff\":15},\"zerolinecolor\":\"white\",\"automargin\":true,\"zerolinewidth\":2},\"scene\":{\"xaxis\":{\"backgroundcolor\":\"#E5ECF6\",\"gridcolor\":\"white\",\"linecolor\":\"white\",\"showbackground\":true,\"ticks\":\"\",\"zerolinecolor\":\"white\",\"gridwidth\":2},\"yaxis\":{\"backgroundcolor\":\"#E5ECF6\",\"gridcolor\":\"white\",\"linecolor\":\"white\",\"showbackground\":true,\"ticks\":\"\",\"zerolinecolor\":\"white\",\"gridwidth\":2},\"zaxis\":{\"backgroundcolor\":\"#E5ECF6\",\"gridcolor\":\"white\",\"linecolor\":\"white\",\"showbackground\":true,\"ticks\":\"\",\"zerolinecolor\":\"white\",\"gridwidth\":2}},\"shapedefaults\":{\"line\":{\"color\":\"#2a3f5f\"}},\"annotationdefaults\":{\"arrowcolor\":\"#2a3f5f\",\"arrowhead\":0,\"arrowwidth\":1},\"geo\":{\"bgcolor\":\"white\",\"landcolor\":\"#E5ECF6\",\"subunitcolor\":\"white\",\"showland\":true,\"showlakes\":true,\"lakecolor\":\"white\"},\"title\":{\"x\":0.05},\"mapbox\":{\"style\":\"light\"}}},\"xaxis\":{\"anchor\":\"y\",\"domain\":[0.0,1.0],\"scaleanchor\":\"y\",\"constrain\":\"domain\",\"title\":{\"text\":\"Predicted\"}},\"yaxis\":{\"anchor\":\"x\",\"domain\":[0.0,1.0],\"autorange\":\"reversed\",\"constrain\":\"domain\",\"title\":{\"text\":\"Actual\"}},\"coloraxis\":{\"colorbar\":{\"title\":{\"text\":\"Count\"}},\"colorscale\":[[0.0,\"#0d0887\"],[0.1111111111111111,\"#46039f\"],[0.2222222222222222,\"#7201a8\"],[0.3333333333333333,\"#9c179e\"],[0.4444444444444444,\"#bd3786\"],[0.5555555555555556,\"#d8576b\"],[0.6666666666666666,\"#ed7953\"],[0.7777777777777778,\"#fb9f3a\"],[0.8888888888888888,\"#fdca26\"],[1.0,\"#f0f921\"]]},\"title\":{\"text\":\"Confusion Matrix of doctor before Ai\"}},                        {\"responsive\": true}                    ).then(function(){\n",
       "                            \n",
       "var gd = document.getElementById('46dd1424-9d92-4c49-ad52-5e410e01fbc0');\n",
       "var x = new MutationObserver(function (mutations, observer) {{\n",
       "        var display = window.getComputedStyle(gd).display;\n",
       "        if (!display || display === 'none') {{\n",
       "            console.log([gd, 'removed!']);\n",
       "            Plotly.purge(gd);\n",
       "            observer.disconnect();\n",
       "        }}\n",
       "}});\n",
       "\n",
       "// Listen for the removal of the full notebook cells\n",
       "var notebookContainer = gd.closest('#notebook-container');\n",
       "if (notebookContainer) {{\n",
       "    x.observe(notebookContainer, {childList: true});\n",
       "}}\n",
       "\n",
       "// Listen for the clearing of the current output cell\n",
       "var outputEl = gd.closest('.output');\n",
       "if (outputEl) {{\n",
       "    x.observe(outputEl, {childList: true});\n",
       "}}\n",
       "\n",
       "                        })                };                });            </script>        </div>"
      ]
     },
     "metadata": {},
     "output_type": "display_data"
    }
   ],
   "execution_count": 304
  },
  {
   "metadata": {},
   "cell_type": "markdown",
   "source": "Recall (also known as sensitivity or true positive rate) tells you what proportion of actual positives were correctly predicted. It is calculated using the following formula:\n",
   "id": "3c3dd80c8b382b6f"
  },
  {
   "metadata": {
    "ExecuteTime": {
     "end_time": "2024-09-22T14:29:11.968768Z",
     "start_time": "2024-09-22T14:29:11.957038Z"
    }
   },
   "cell_type": "code",
   "source": "display(Image(filename='recall.png'))",
   "id": "35c1f2ff97a833a5",
   "outputs": [
    {
     "data": {
      "image/png": "[encoded data removed]",
      "text/plain": [
       "<IPython.core.display.Image object>"
      ]
     },
     "metadata": {},
     "output_type": "display_data"
    }
   ],
   "execution_count": 305
  },
  {
   "metadata": {
    "ExecuteTime": {
     "end_time": "2024-09-22T14:29:12.037729Z",
     "start_time": "2024-09-22T14:29:12.029151Z"
    }
   },
   "cell_type": "code",
   "source": [
    "recall = recall_score(doctor_diagnosis_beforeAi, Gold_standard)\n",
    "print(f'Sensitivity (Recall): {recall}')"
   ],
   "id": "8585bad79c478ff7",
   "outputs": [
    {
     "name": "stdout",
     "output_type": "stream",
     "text": [
      "Sensitivity (Recall): 0.675\n"
     ]
    }
   ],
   "execution_count": 306
  },
  {
   "metadata": {},
   "cell_type": "markdown",
   "source": "Precision tells you what proportion of predicted positives were actually positive. It is calculated using the following formula:",
   "id": "b558bdc3a1d3cde9"
  },
  {
   "metadata": {
    "ExecuteTime": {
     "end_time": "2024-09-22T14:29:12.303648Z",
     "start_time": "2024-09-22T14:29:12.291776Z"
    }
   },
   "cell_type": "code",
   "source": "display(Image(filename='precision.png'))",
   "id": "af80151e589078cb",
   "outputs": [
    {
     "data": {
      "image/png": "[encoded data removed]",
      "text/plain": [
       "<IPython.core.display.Image object>"
      ]
     },
     "metadata": {},
     "output_type": "display_data"
    }
   ],
   "execution_count": 307
  },
  {
   "metadata": {
    "ExecuteTime": {
     "end_time": "2024-09-22T14:29:12.343861Z",
     "start_time": "2024-09-22T14:29:12.330498Z"
    }
   },
   "cell_type": "code",
   "source": [
    "precision = precision_score(doctor_diagnosis_beforeAi, Gold_standard)\n",
    "print(f'Precision: {precision}')"
   ],
   "id": "2c7c3ed015e0be11",
   "outputs": [
    {
     "name": "stdout",
     "output_type": "stream",
     "text": [
      "Precision: 0.8181818181818182\n"
     ]
    }
   ],
   "execution_count": 308
  },
  {
   "metadata": {},
   "cell_type": "markdown",
   "source": [
    "### F1 Score in Binary Classification\n",
    "The **F1 score** is a metric used to evaluate the performance of a binary classification model. It is the harmonic mean of precision and recall, providing a balance between the two metrics. The F1 score is particularly useful when you need to consider both false positives and false negatives, especially in imbalanced datasets."
   ],
   "id": "f2bd08fa63a63af8"
  },
  {
   "metadata": {
    "ExecuteTime": {
     "end_time": "2024-09-22T14:29:12.417064Z",
     "start_time": "2024-09-22T14:29:12.405186Z"
    }
   },
   "cell_type": "code",
   "source": "display(Image(filename='f1score.jpg'))",
   "id": "87ad3ddf5ca8eae0",
   "outputs": [
    {
     "data": {
      "image/jpeg": "[encoded data removed]",
      "text/plain": [
       "<IPython.core.display.Image object>"
      ]
     },
     "metadata": {},
     "output_type": "display_data"
    }
   ],
   "execution_count": 309
  },
  {
   "metadata": {
    "ExecuteTime": {
     "end_time": "2024-09-22T14:29:12.477834Z",
     "start_time": "2024-09-22T14:29:12.467128Z"
    }
   },
   "cell_type": "code",
   "source": [
    "f1 = f1_score(doctor_diagnosis_beforeAi, Gold_standard)  \n",
    "print(f'F1 Score: {f1}')"
   ],
   "id": "2132bbba6f267c6c",
   "outputs": [
    {
     "name": "stdout",
     "output_type": "stream",
     "text": [
      "F1 Score: 0.7397260273972603\n"
     ]
    }
   ],
   "execution_count": 310
  },
  {
   "metadata": {
    "ExecuteTime": {
     "end_time": "2024-09-22T14:29:12.636121Z",
     "start_time": "2024-09-22T14:29:12.560849Z"
    }
   },
   "cell_type": "code",
   "source": [
    "cm = confusion_matrix(Ai_diagnosis, Gold_standard)\n",
    "cm_df = pd.DataFrame(cm, index=[\"No Fracture\", \"Fracture\"], columns=[\"No Fracture\", \"Fracture\"])\n",
    "\n",
    "# Plotly heatmap\n",
    "fig = px.imshow(cm_df, text_auto=True, labels=dict(x=\"Predicted\", y=\"Actual\", color=\"Count\"), \n",
    "                title=\"Confusion Matrix of Ai\")\n",
    "fig.show()"
   ],
   "id": "73840a6f2556a9cd",
   "outputs": [
    {
     "data": {
      "application/vnd.plotly.v1+json": {
       "data": [
        {
         "coloraxis": "coloraxis",
         "name": "0",
         "texttemplate": "%{z}",
         "x": [
          "No Fracture",
          "Fracture"
         ],
         "y": [
          "No Fracture",
          "Fracture"
         ],
         "z": [
          [
           61,
           4
          ],
          [
           5,
           29
          ]
         ],
         "type": "heatmap",
         "xaxis": "x",
         "yaxis": "y",
         "hovertemplate": "Predicted: %{x}<br>Actual: %{y}<br>Count: %{z}<extra></extra>"
        }
       ],
       "layout": {
        "template": {
         "data": {
          "histogram2dcontour": [
           {
            "type": "histogram2dcontour",
            "colorbar": {
             "outlinewidth": 0,
             "ticks": ""
            },
            "colorscale": [
             [
              0.0,
              "#0d0887"
             ],
             [
              0.1111111111111111,
              "#46039f"
             ],
             [
              0.2222222222222222,
              "#7201a8"
             ],
             [
              0.3333333333333333,
              "#9c179e"
             ],
             [
              0.4444444444444444,
              "#bd3786"
             ],
             [
              0.5555555555555556,
              "#d8576b"
             ],
             [
              0.6666666666666666,
              "#ed7953"
             ],
             [
              0.7777777777777778,
              "#fb9f3a"
             ],
             [
              0.8888888888888888,
              "#fdca26"
             ],
             [
              1.0,
              "#f0f921"
             ]
            ]
           }
          ],
          "choropleth": [
           {
            "type": "choropleth",
            "colorbar": {
             "outlinewidth": 0,
             "ticks": ""
            }
           }
          ],
          "histogram2d": [
           {
            "type": "histogram2d",
            "colorbar": {
             "outlinewidth": 0,
             "ticks": ""
            },
            "colorscale": [
             [
              0.0,
              "#0d0887"
             ],
             [
              0.1111111111111111,
              "#46039f"
             ],
             [
              0.2222222222222222,
              "#7201a8"
             ],
             [
              0.3333333333333333,
              "#9c179e"
             ],
             [
              0.4444444444444444,
              "#bd3786"
             ],
             [
              0.5555555555555556,
              "#d8576b"
             ],
             [
              0.6666666666666666,
              "#ed7953"
             ],
             [
              0.7777777777777778,
              "#fb9f3a"
             ],
             [
              0.8888888888888888,
              "#fdca26"
             ],
             [
              1.0,
              "#f0f921"
             ]
            ]
           }
          ],
          "heatmap": [
           {
            "type": "heatmap",
            "colorbar": {
             "outlinewidth": 0,
             "ticks": ""
            },
            "colorscale": [
             [
              0.0,
              "#0d0887"
             ],
             [
              0.1111111111111111,
              "#46039f"
             ],
             [
              0.2222222222222222,
              "#7201a8"
             ],
             [
              0.3333333333333333,
              "#9c179e"
             ],
             [
              0.4444444444444444,
              "#bd3786"
             ],
             [
              0.5555555555555556,
              "#d8576b"
             ],
             [
              0.6666666666666666,
              "#ed7953"
             ],
             [
              0.7777777777777778,
              "#fb9f3a"
             ],
             [
              0.8888888888888888,
              "#fdca26"
             ],
             [
              1.0,
              "#f0f921"
             ]
            ]
           }
          ],
          "heatmapgl": [
           {
            "type": "heatmapgl",
            "colorbar": {
             "outlinewidth": 0,
             "ticks": ""
            },
            "colorscale": [
             [
              0.0,
              "#0d0887"
             ],
             [
              0.1111111111111111,
              "#46039f"
             ],
             [
              0.2222222222222222,
              "#7201a8"
             ],
             [
              0.3333333333333333,
              "#9c179e"
             ],
             [
              0.4444444444444444,
              "#bd3786"
             ],
             [
              0.5555555555555556,
              "#d8576b"
             ],
             [
              0.6666666666666666,
              "#ed7953"
             ],
             [
              0.7777777777777778,
              "#fb9f3a"
             ],
             [
              0.8888888888888888,
              "#fdca26"
             ],
             [
              1.0,
              "#f0f921"
             ]
            ]
           }
          ],
          "contourcarpet": [
           {
            "type": "contourcarpet",
            "colorbar": {
             "outlinewidth": 0,
             "ticks": ""
            }
           }
          ],
          "contour": [
           {
            "type": "contour",
            "colorbar": {
             "outlinewidth": 0,
             "ticks": ""
            },
            "colorscale": [
             [
              0.0,
              "#0d0887"
             ],
             [
              0.1111111111111111,
              "#46039f"
             ],
             [
              0.2222222222222222,
              "#7201a8"
             ],
             [
              0.3333333333333333,
              "#9c179e"
             ],
             [
              0.4444444444444444,
              "#bd3786"
             ],
             [
              0.5555555555555556,
              "#d8576b"
             ],
             [
              0.6666666666666666,
              "#ed7953"
             ],
             [
              0.7777777777777778,
              "#fb9f3a"
             ],
             [
              0.8888888888888888,
              "#fdca26"
             ],
             [
              1.0,
              "#f0f921"
             ]
            ]
           }
          ],
          "surface": [
           {
            "type": "surface",
            "colorbar": {
             "outlinewidth": 0,
             "ticks": ""
            },
            "colorscale": [
             [
              0.0,
              "#0d0887"
             ],
             [
              0.1111111111111111,
              "#46039f"
             ],
             [
              0.2222222222222222,
              "#7201a8"
             ],
             [
              0.3333333333333333,
              "#9c179e"
             ],
             [
              0.4444444444444444,
              "#bd3786"
             ],
             [
              0.5555555555555556,
              "#d8576b"
             ],
             [
              0.6666666666666666,
              "#ed7953"
             ],
             [
              0.7777777777777778,
              "#fb9f3a"
             ],
             [
              0.8888888888888888,
              "#fdca26"
             ],
             [
              1.0,
              "#f0f921"
             ]
            ]
           }
          ],
          "mesh3d": [
           {
            "type": "mesh3d",
            "colorbar": {
             "outlinewidth": 0,
             "ticks": ""
            }
           }
          ],
          "scatter": [
           {
            "fillpattern": {
             "fillmode": "overlay",
             "size": 10,
             "solidity": 0.2
            },
            "type": "scatter"
           }
          ],
          "parcoords": [
           {
            "type": "parcoords",
            "line": {
             "colorbar": {
              "outlinewidth": 0,
              "ticks": ""
             }
            }
           }
          ],
          "scatterpolargl": [
           {
            "type": "scatterpolargl",
            "marker": {
             "colorbar": {
              "outlinewidth": 0,
              "ticks": ""
             }
            }
           }
          ],
          "bar": [
           {
            "error_x": {
             "color": "#2a3f5f"
            },
            "error_y": {
             "color": "#2a3f5f"
            },
            "marker": {
             "line": {
              "color": "#E5ECF6",
              "width": 0.5
             },
             "pattern": {
              "fillmode": "overlay",
              "size": 10,
              "solidity": 0.2
             }
            },
            "type": "bar"
           }
          ],
          "scattergeo": [
           {
            "type": "scattergeo",
            "marker": {
             "colorbar": {
              "outlinewidth": 0,
              "ticks": ""
             }
            }
           }
          ],
          "scatterpolar": [
           {
            "type": "scatterpolar",
            "marker": {
             "colorbar": {
              "outlinewidth": 0,
              "ticks": ""
             }
            }
           }
          ],
          "histogram": [
           {
            "marker": {
             "pattern": {
              "fillmode": "overlay",
              "size": 10,
              "solidity": 0.2
             }
            },
            "type": "histogram"
           }
          ],
          "scattergl": [
           {
            "type": "scattergl",
            "marker": {
             "colorbar": {
              "outlinewidth": 0,
              "ticks": ""
             }
            }
           }
          ],
          "scatter3d": [
           {
            "type": "scatter3d",
            "line": {
             "colorbar": {
              "outlinewidth": 0,
              "ticks": ""
             }
            },
            "marker": {
             "colorbar": {
              "outlinewidth": 0,
              "ticks": ""
             }
            }
           }
          ],
          "scattermapbox": [
           {
            "type": "scattermapbox",
            "marker": {
             "colorbar": {
              "outlinewidth": 0,
              "ticks": ""
             }
            }
           }
          ],
          "scatterternary": [
           {
            "type": "scatterternary",
            "marker": {
             "colorbar": {
              "outlinewidth": 0,
              "ticks": ""
             }
            }
           }
          ],
          "scattercarpet": [
           {
            "type": "scattercarpet",
            "marker": {
             "colorbar": {
              "outlinewidth": 0,
              "ticks": ""
             }
            }
           }
          ],
          "carpet": [
           {
            "aaxis": {
             "endlinecolor": "#2a3f5f",
             "gridcolor": "white",
             "linecolor": "white",
             "minorgridcolor": "white",
             "startlinecolor": "#2a3f5f"
            },
            "baxis": {
             "endlinecolor": "#2a3f5f",
             "gridcolor": "white",
             "linecolor": "white",
             "minorgridcolor": "white",
             "startlinecolor": "#2a3f5f"
            },
            "type": "carpet"
           }
          ],
          "table": [
           {
            "cells": {
             "fill": {
              "color": "#EBF0F8"
             },
             "line": {
              "color": "white"
             }
            },
            "header": {
             "fill": {
              "color": "#C8D4E3"
             },
             "line": {
              "color": "white"
             }
            },
            "type": "table"
           }
          ],
          "barpolar": [
           {
            "marker": {
             "line": {
              "color": "#E5ECF6",
              "width": 0.5
             },
             "pattern": {
              "fillmode": "overlay",
              "size": 10,
              "solidity": 0.2
             }
            },
            "type": "barpolar"
           }
          ],
          "pie": [
           {
            "automargin": true,
            "type": "pie"
           }
          ]
         },
         "layout": {
          "autotypenumbers": "strict",
          "colorway": [
           "#636efa",
           "#EF553B",
           "#00cc96",
           "#ab63fa",
           "#FFA15A",
           "#19d3f3",
           "#FF6692",
           "#B6E880",
           "#FF97FF",
           "#FECB52"
          ],
          "font": {
           "color": "#2a3f5f"
          },
          "hovermode": "closest",
          "hoverlabel": {
           "align": "left"
          },
          "paper_bgcolor": "white",
          "plot_bgcolor": "#E5ECF6",
          "polar": {
           "bgcolor": "#E5ECF6",
           "angularaxis": {
            "gridcolor": "white",
            "linecolor": "white",
            "ticks": ""
           },
           "radialaxis": {
            "gridcolor": "white",
            "linecolor": "white",
            "ticks": ""
           }
          },
          "ternary": {
           "bgcolor": "#E5ECF6",
           "aaxis": {
            "gridcolor": "white",
            "linecolor": "white",
            "ticks": ""
           },
           "baxis": {
            "gridcolor": "white",
            "linecolor": "white",
            "ticks": ""
           },
           "caxis": {
            "gridcolor": "white",
            "linecolor": "white",
            "ticks": ""
           }
          },
          "coloraxis": {
           "colorbar": {
            "outlinewidth": 0,
            "ticks": ""
           }
          },
          "colorscale": {
           "sequential": [
            [
             0.0,
             "#0d0887"
            ],
            [
             0.1111111111111111,
             "#46039f"
            ],
            [
             0.2222222222222222,
             "#7201a8"
            ],
            [
             0.3333333333333333,
             "#9c179e"
            ],
            [
             0.4444444444444444,
             "#bd3786"
            ],
            [
             0.5555555555555556,
             "#d8576b"
            ],
            [
             0.6666666666666666,
             "#ed7953"
            ],
            [
             0.7777777777777778,
             "#fb9f3a"
            ],
            [
             0.8888888888888888,
             "#fdca26"
            ],
            [
             1.0,
             "#f0f921"
            ]
           ],
           "sequentialminus": [
            [
             0.0,
             "#0d0887"
            ],
            [
             0.1111111111111111,
             "#46039f"
            ],
            [
             0.2222222222222222,
             "#7201a8"
            ],
            [
             0.3333333333333333,
             "#9c179e"
            ],
            [
             0.4444444444444444,
             "#bd3786"
            ],
            [
             0.5555555555555556,
             "#d8576b"
            ],
            [
             0.6666666666666666,
             "#ed7953"
            ],
            [
             0.7777777777777778,
             "#fb9f3a"
            ],
            [
             0.8888888888888888,
             "#fdca26"
            ],
            [
             1.0,
             "#f0f921"
            ]
           ],
           "diverging": [
            [
             0,
             "#8e0152"
            ],
            [
             0.1,
             "#c51b7d"
            ],
            [
             0.2,
             "#de77ae"
            ],
            [
             0.3,
             "#f1b6da"
            ],
            [
             0.4,
             "#fde0ef"
            ],
            [
             0.5,
             "#f7f7f7"
            ],
            [
             0.6,
             "#e6f5d0"
            ],
            [
             0.7,
             "#b8e186"
            ],
            [
             0.8,
             "#7fbc41"
            ],
            [
             0.9,
             "#4d9221"
            ],
            [
             1,
             "#276419"
            ]
           ]
          },
          "xaxis": {
           "gridcolor": "white",
           "linecolor": "white",
           "ticks": "",
           "title": {
            "standoff": 15
           },
           "zerolinecolor": "white",
           "automargin": true,
           "zerolinewidth": 2
          },
          "yaxis": {
           "gridcolor": "white",
           "linecolor": "white",
           "ticks": "",
           "title": {
            "standoff": 15
           },
           "zerolinecolor": "white",
           "automargin": true,
           "zerolinewidth": 2
          },
          "scene": {
           "xaxis": {
            "backgroundcolor": "#E5ECF6",
            "gridcolor": "white",
            "linecolor": "white",
            "showbackground": true,
            "ticks": "",
            "zerolinecolor": "white",
            "gridwidth": 2
           },
           "yaxis": {
            "backgroundcolor": "#E5ECF6",
            "gridcolor": "white",
            "linecolor": "white",
            "showbackground": true,
            "ticks": "",
            "zerolinecolor": "white",
            "gridwidth": 2
           },
           "zaxis": {
            "backgroundcolor": "#E5ECF6",
            "gridcolor": "white",
            "linecolor": "white",
            "showbackground": true,
            "ticks": "",
            "zerolinecolor": "white",
            "gridwidth": 2
           }
          },
          "shapedefaults": {
           "line": {
            "color": "#2a3f5f"
           }
          },
          "annotationdefaults": {
           "arrowcolor": "#2a3f5f",
           "arrowhead": 0,
           "arrowwidth": 1
          },
          "geo": {
           "bgcolor": "white",
           "landcolor": "#E5ECF6",
           "subunitcolor": "white",
           "showland": true,
           "showlakes": true,
           "lakecolor": "white"
          },
          "title": {
           "x": 0.05
          },
          "mapbox": {
           "style": "light"
          }
         }
        },
        "xaxis": {
         "anchor": "y",
         "domain": [
          0.0,
          1.0
         ],
         "scaleanchor": "y",
         "constrain": "domain",
         "title": {
          "text": "Predicted"
         }
        },
        "yaxis": {
         "anchor": "x",
         "domain": [
          0.0,
          1.0
         ],
         "autorange": "reversed",
         "constrain": "domain",
         "title": {
          "text": "Actual"
         }
        },
        "coloraxis": {
         "colorbar": {
          "title": {
           "text": "Count"
          }
         },
         "colorscale": [
          [
           0.0,
           "#0d0887"
          ],
          [
           0.1111111111111111,
           "#46039f"
          ],
          [
           0.2222222222222222,
           "#7201a8"
          ],
          [
           0.3333333333333333,
           "#9c179e"
          ],
          [
           0.4444444444444444,
           "#bd3786"
          ],
          [
           0.5555555555555556,
           "#d8576b"
          ],
          [
           0.6666666666666666,
           "#ed7953"
          ],
          [
           0.7777777777777778,
           "#fb9f3a"
          ],
          [
           0.8888888888888888,
           "#fdca26"
          ],
          [
           1.0,
           "#f0f921"
          ]
         ]
        },
        "title": {
         "text": "Confusion Matrix of Ai"
        }
       },
       "config": {
        "plotlyServerURL": "https://plot.ly"
       }
      },
      "text/html": [
       "<div>                            <div id=\"36a51eec-4039-4ad0-af7f-de09545dbfc4\" class=\"plotly-graph-div\" style=\"height:525px; width:100%;\"></div>            <script type=\"text/javascript\">                require([\"plotly\"], function(Plotly) {                    window.PLOTLYENV=window.PLOTLYENV || {};                                    if (document.getElementById(\"36a51eec-4039-4ad0-af7f-de09545dbfc4\")) {                    Plotly.newPlot(                        \"36a51eec-4039-4ad0-af7f-de09545dbfc4\",                        [{\"coloraxis\":\"coloraxis\",\"name\":\"0\",\"texttemplate\":\"%{z}\",\"x\":[\"No Fracture\",\"Fracture\"],\"y\":[\"No Fracture\",\"Fracture\"],\"z\":[[61,4],[5,29]],\"type\":\"heatmap\",\"xaxis\":\"x\",\"yaxis\":\"y\",\"hovertemplate\":\"Predicted: %{x}<br>Actual: %{y}<br>Count: %{z}<extra></extra>\"}],                        {\"template\":{\"data\":{\"histogram2dcontour\":[{\"type\":\"histogram2dcontour\",\"colorbar\":{\"outlinewidth\":0,\"ticks\":\"\"},\"colorscale\":[[0.0,\"#0d0887\"],[0.1111111111111111,\"#46039f\"],[0.2222222222222222,\"#7201a8\"],[0.3333333333333333,\"#9c179e\"],[0.4444444444444444,\"#bd3786\"],[0.5555555555555556,\"#d8576b\"],[0.6666666666666666,\"#ed7953\"],[0.7777777777777778,\"#fb9f3a\"],[0.8888888888888888,\"#fdca26\"],[1.0,\"#f0f921\"]]}],\"choropleth\":[{\"type\":\"choropleth\",\"colorbar\":{\"outlinewidth\":0,\"ticks\":\"\"}}],\"histogram2d\":[{\"type\":\"histogram2d\",\"colorbar\":{\"outlinewidth\":0,\"ticks\":\"\"},\"colorscale\":[[0.0,\"#0d0887\"],[0.1111111111111111,\"#46039f\"],[0.2222222222222222,\"#7201a8\"],[0.3333333333333333,\"#9c179e\"],[0.4444444444444444,\"#bd3786\"],[0.5555555555555556,\"#d8576b\"],[0.6666666666666666,\"#ed7953\"],[0.7777777777777778,\"#fb9f3a\"],[0.8888888888888888,\"#fdca26\"],[1.0,\"#f0f921\"]]}],\"heatmap\":[{\"type\":\"heatmap\",\"colorbar\":{\"outlinewidth\":0,\"ticks\":\"\"},\"colorscale\":[[0.0,\"#0d0887\"],[0.1111111111111111,\"#46039f\"],[0.2222222222222222,\"#7201a8\"],[0.3333333333333333,\"#9c179e\"],[0.4444444444444444,\"#bd3786\"],[0.5555555555555556,\"#d8576b\"],[0.6666666666666666,\"#ed7953\"],[0.7777777777777778,\"#fb9f3a\"],[0.8888888888888888,\"#fdca26\"],[1.0,\"#f0f921\"]]}],\"heatmapgl\":[{\"type\":\"heatmapgl\",\"colorbar\":{\"outlinewidth\":0,\"ticks\":\"\"},\"colorscale\":[[0.0,\"#0d0887\"],[0.1111111111111111,\"#46039f\"],[0.2222222222222222,\"#7201a8\"],[0.3333333333333333,\"#9c179e\"],[0.4444444444444444,\"#bd3786\"],[0.5555555555555556,\"#d8576b\"],[0.6666666666666666,\"#ed7953\"],[0.7777777777777778,\"#fb9f3a\"],[0.8888888888888888,\"#fdca26\"],[1.0,\"#f0f921\"]]}],\"contourcarpet\":[{\"type\":\"contourcarpet\",\"colorbar\":{\"outlinewidth\":0,\"ticks\":\"\"}}],\"contour\":[{\"type\":\"contour\",\"colorbar\":{\"outlinewidth\":0,\"ticks\":\"\"},\"colorscale\":[[0.0,\"#0d0887\"],[0.1111111111111111,\"#46039f\"],[0.2222222222222222,\"#7201a8\"],[0.3333333333333333,\"#9c179e\"],[0.4444444444444444,\"#bd3786\"],[0.5555555555555556,\"#d8576b\"],[0.6666666666666666,\"#ed7953\"],[0.7777777777777778,\"#fb9f3a\"],[0.8888888888888888,\"#fdca26\"],[1.0,\"#f0f921\"]]}],\"surface\":[{\"type\":\"surface\",\"colorbar\":{\"outlinewidth\":0,\"ticks\":\"\"},\"colorscale\":[[0.0,\"#0d0887\"],[0.1111111111111111,\"#46039f\"],[0.2222222222222222,\"#7201a8\"],[0.3333333333333333,\"#9c179e\"],[0.4444444444444444,\"#bd3786\"],[0.5555555555555556,\"#d8576b\"],[0.6666666666666666,\"#ed7953\"],[0.7777777777777778,\"#fb9f3a\"],[0.8888888888888888,\"#fdca26\"],[1.0,\"#f0f921\"]]}],\"mesh3d\":[{\"type\":\"mesh3d\",\"colorbar\":{\"outlinewidth\":0,\"ticks\":\"\"}}],\"scatter\":[{\"fillpattern\":{\"fillmode\":\"overlay\",\"size\":10,\"solidity\":0.2},\"type\":\"scatter\"}],\"parcoords\":[{\"type\":\"parcoords\",\"line\":{\"colorbar\":{\"outlinewidth\":0,\"ticks\":\"\"}}}],\"scatterpolargl\":[{\"type\":\"scatterpolargl\",\"marker\":{\"colorbar\":{\"outlinewidth\":0,\"ticks\":\"\"}}}],\"bar\":[{\"error_x\":{\"color\":\"#2a3f5f\"},\"error_y\":{\"color\":\"#2a3f5f\"},\"marker\":{\"line\":{\"color\":\"#E5ECF6\",\"width\":0.5},\"pattern\":{\"fillmode\":\"overlay\",\"size\":10,\"solidity\":0.2}},\"type\":\"bar\"}],\"scattergeo\":[{\"type\":\"scattergeo\",\"marker\":{\"colorbar\":{\"outlinewidth\":0,\"ticks\":\"\"}}}],\"scatterpolar\":[{\"type\":\"scatterpolar\",\"marker\":{\"colorbar\":{\"outlinewidth\":0,\"ticks\":\"\"}}}],\"histogram\":[{\"marker\":{\"pattern\":{\"fillmode\":\"overlay\",\"size\":10,\"solidity\":0.2}},\"type\":\"histogram\"}],\"scattergl\":[{\"type\":\"scattergl\",\"marker\":{\"colorbar\":{\"outlinewidth\":0,\"ticks\":\"\"}}}],\"scatter3d\":[{\"type\":\"scatter3d\",\"line\":{\"colorbar\":{\"outlinewidth\":0,\"ticks\":\"\"}},\"marker\":{\"colorbar\":{\"outlinewidth\":0,\"ticks\":\"\"}}}],\"scattermapbox\":[{\"type\":\"scattermapbox\",\"marker\":{\"colorbar\":{\"outlinewidth\":0,\"ticks\":\"\"}}}],\"scatterternary\":[{\"type\":\"scatterternary\",\"marker\":{\"colorbar\":{\"outlinewidth\":0,\"ticks\":\"\"}}}],\"scattercarpet\":[{\"type\":\"scattercarpet\",\"marker\":{\"colorbar\":{\"outlinewidth\":0,\"ticks\":\"\"}}}],\"carpet\":[{\"aaxis\":{\"endlinecolor\":\"#2a3f5f\",\"gridcolor\":\"white\",\"linecolor\":\"white\",\"minorgridcolor\":\"white\",\"startlinecolor\":\"#2a3f5f\"},\"baxis\":{\"endlinecolor\":\"#2a3f5f\",\"gridcolor\":\"white\",\"linecolor\":\"white\",\"minorgridcolor\":\"white\",\"startlinecolor\":\"#2a3f5f\"},\"type\":\"carpet\"}],\"table\":[{\"cells\":{\"fill\":{\"color\":\"#EBF0F8\"},\"line\":{\"color\":\"white\"}},\"header\":{\"fill\":{\"color\":\"#C8D4E3\"},\"line\":{\"color\":\"white\"}},\"type\":\"table\"}],\"barpolar\":[{\"marker\":{\"line\":{\"color\":\"#E5ECF6\",\"width\":0.5},\"pattern\":{\"fillmode\":\"overlay\",\"size\":10,\"solidity\":0.2}},\"type\":\"barpolar\"}],\"pie\":[{\"automargin\":true,\"type\":\"pie\"}]},\"layout\":{\"autotypenumbers\":\"strict\",\"colorway\":[\"#636efa\",\"#EF553B\",\"#00cc96\",\"#ab63fa\",\"#FFA15A\",\"#19d3f3\",\"#FF6692\",\"#B6E880\",\"#FF97FF\",\"#FECB52\"],\"font\":{\"color\":\"#2a3f5f\"},\"hovermode\":\"closest\",\"hoverlabel\":{\"align\":\"left\"},\"paper_bgcolor\":\"white\",\"plot_bgcolor\":\"#E5ECF6\",\"polar\":{\"bgcolor\":\"#E5ECF6\",\"angularaxis\":{\"gridcolor\":\"white\",\"linecolor\":\"white\",\"ticks\":\"\"},\"radialaxis\":{\"gridcolor\":\"white\",\"linecolor\":\"white\",\"ticks\":\"\"}},\"ternary\":{\"bgcolor\":\"#E5ECF6\",\"aaxis\":{\"gridcolor\":\"white\",\"linecolor\":\"white\",\"ticks\":\"\"},\"baxis\":{\"gridcolor\":\"white\",\"linecolor\":\"white\",\"ticks\":\"\"},\"caxis\":{\"gridcolor\":\"white\",\"linecolor\":\"white\",\"ticks\":\"\"}},\"coloraxis\":{\"colorbar\":{\"outlinewidth\":0,\"ticks\":\"\"}},\"colorscale\":{\"sequential\":[[0.0,\"#0d0887\"],[0.1111111111111111,\"#46039f\"],[0.2222222222222222,\"#7201a8\"],[0.3333333333333333,\"#9c179e\"],[0.4444444444444444,\"#bd3786\"],[0.5555555555555556,\"#d8576b\"],[0.6666666666666666,\"#ed7953\"],[0.7777777777777778,\"#fb9f3a\"],[0.8888888888888888,\"#fdca26\"],[1.0,\"#f0f921\"]],\"sequentialminus\":[[0.0,\"#0d0887\"],[0.1111111111111111,\"#46039f\"],[0.2222222222222222,\"#7201a8\"],[0.3333333333333333,\"#9c179e\"],[0.4444444444444444,\"#bd3786\"],[0.5555555555555556,\"#d8576b\"],[0.6666666666666666,\"#ed7953\"],[0.7777777777777778,\"#fb9f3a\"],[0.8888888888888888,\"#fdca26\"],[1.0,\"#f0f921\"]],\"diverging\":[[0,\"#8e0152\"],[0.1,\"#c51b7d\"],[0.2,\"#de77ae\"],[0.3,\"#f1b6da\"],[0.4,\"#fde0ef\"],[0.5,\"#f7f7f7\"],[0.6,\"#e6f5d0\"],[0.7,\"#b8e186\"],[0.8,\"#7fbc41\"],[0.9,\"#4d9221\"],[1,\"#276419\"]]},\"xaxis\":{\"gridcolor\":\"white\",\"linecolor\":\"white\",\"ticks\":\"\",\"title\":{\"standoff\":15},\"zerolinecolor\":\"white\",\"automargin\":true,\"zerolinewidth\":2},\"yaxis\":{\"gridcolor\":\"white\",\"linecolor\":\"white\",\"ticks\":\"\",\"title\":{\"standoff\":15},\"zerolinecolor\":\"white\",\"automargin\":true,\"zerolinewidth\":2},\"scene\":{\"xaxis\":{\"backgroundcolor\":\"#E5ECF6\",\"gridcolor\":\"white\",\"linecolor\":\"white\",\"showbackground\":true,\"ticks\":\"\",\"zerolinecolor\":\"white\",\"gridwidth\":2},\"yaxis\":{\"backgroundcolor\":\"#E5ECF6\",\"gridcolor\":\"white\",\"linecolor\":\"white\",\"showbackground\":true,\"ticks\":\"\",\"zerolinecolor\":\"white\",\"gridwidth\":2},\"zaxis\":{\"backgroundcolor\":\"#E5ECF6\",\"gridcolor\":\"white\",\"linecolor\":\"white\",\"showbackground\":true,\"ticks\":\"\",\"zerolinecolor\":\"white\",\"gridwidth\":2}},\"shapedefaults\":{\"line\":{\"color\":\"#2a3f5f\"}},\"annotationdefaults\":{\"arrowcolor\":\"#2a3f5f\",\"arrowhead\":0,\"arrowwidth\":1},\"geo\":{\"bgcolor\":\"white\",\"landcolor\":\"#E5ECF6\",\"subunitcolor\":\"white\",\"showland\":true,\"showlakes\":true,\"lakecolor\":\"white\"},\"title\":{\"x\":0.05},\"mapbox\":{\"style\":\"light\"}}},\"xaxis\":{\"anchor\":\"y\",\"domain\":[0.0,1.0],\"scaleanchor\":\"y\",\"constrain\":\"domain\",\"title\":{\"text\":\"Predicted\"}},\"yaxis\":{\"anchor\":\"x\",\"domain\":[0.0,1.0],\"autorange\":\"reversed\",\"constrain\":\"domain\",\"title\":{\"text\":\"Actual\"}},\"coloraxis\":{\"colorbar\":{\"title\":{\"text\":\"Count\"}},\"colorscale\":[[0.0,\"#0d0887\"],[0.1111111111111111,\"#46039f\"],[0.2222222222222222,\"#7201a8\"],[0.3333333333333333,\"#9c179e\"],[0.4444444444444444,\"#bd3786\"],[0.5555555555555556,\"#d8576b\"],[0.6666666666666666,\"#ed7953\"],[0.7777777777777778,\"#fb9f3a\"],[0.8888888888888888,\"#fdca26\"],[1.0,\"#f0f921\"]]},\"title\":{\"text\":\"Confusion Matrix of Ai\"}},                        {\"responsive\": true}                    ).then(function(){\n",
       "                            \n",
       "var gd = document.getElementById('36a51eec-4039-4ad0-af7f-de09545dbfc4');\n",
       "var x = new MutationObserver(function (mutations, observer) {{\n",
       "        var display = window.getComputedStyle(gd).display;\n",
       "        if (!display || display === 'none') {{\n",
       "            console.log([gd, 'removed!']);\n",
       "            Plotly.purge(gd);\n",
       "            observer.disconnect();\n",
       "        }}\n",
       "}});\n",
       "\n",
       "// Listen for the removal of the full notebook cells\n",
       "var notebookContainer = gd.closest('#notebook-container');\n",
       "if (notebookContainer) {{\n",
       "    x.observe(notebookContainer, {childList: true});\n",
       "}}\n",
       "\n",
       "// Listen for the clearing of the current output cell\n",
       "var outputEl = gd.closest('.output');\n",
       "if (outputEl) {{\n",
       "    x.observe(outputEl, {childList: true});\n",
       "}}\n",
       "\n",
       "                        })                };                });            </script>        </div>"
      ]
     },
     "metadata": {},
     "output_type": "display_data"
    }
   ],
   "execution_count": 311
  },
  {
   "metadata": {
    "ExecuteTime": {
     "end_time": "2024-09-22T14:29:12.649196Z",
     "start_time": "2024-09-22T14:29:12.639332Z"
    }
   },
   "cell_type": "code",
   "source": [
    "recall = recall_score(Ai_diagnosis, Gold_standard)\n",
    "print(f'Sensitivity (Recall): {recall}')"
   ],
   "id": "e6736486ef26b172",
   "outputs": [
    {
     "name": "stdout",
     "output_type": "stream",
     "text": [
      "Sensitivity (Recall): 0.8529411764705882\n"
     ]
    }
   ],
   "execution_count": 312
  },
  {
   "metadata": {
    "ExecuteTime": {
     "end_time": "2024-09-22T14:29:12.704495Z",
     "start_time": "2024-09-22T14:29:12.694342Z"
    }
   },
   "cell_type": "code",
   "source": [
    "precision = precision_score(Ai_diagnosis, Gold_standard)\n",
    "print(f'Precision: {precision}')"
   ],
   "id": "6078f2f4a255d6e1",
   "outputs": [
    {
     "name": "stdout",
     "output_type": "stream",
     "text": [
      "Precision: 0.8787878787878788\n"
     ]
    }
   ],
   "execution_count": 313
  },
  {
   "metadata": {
    "ExecuteTime": {
     "end_time": "2024-09-22T14:29:12.730091Z",
     "start_time": "2024-09-22T14:29:12.718755Z"
    }
   },
   "cell_type": "code",
   "source": [
    "f1 = f1_score(Ai_diagnosis, Gold_standard)\n",
    "print(f'F1 Score: {f1}')"
   ],
   "id": "574d65d5693f933c",
   "outputs": [
    {
     "name": "stdout",
     "output_type": "stream",
     "text": [
      "F1 Score: 0.8656716417910447\n"
     ]
    }
   ],
   "execution_count": 314
  },
  {
   "metadata": {},
   "cell_type": "markdown",
   "source": "# Exploratory Data Analysis:",
   "id": "3cca6c7dd5c54bb9"
  },
  {
   "metadata": {
    "ExecuteTime": {
     "end_time": "2024-09-22T14:29:12.986578Z",
     "start_time": "2024-09-22T14:29:12.784558Z"
    }
   },
   "cell_type": "code",
   "source": [
    "#number of fractures and no fractures in Gold_standard\n",
    "#check if the data is balanced\n",
    "patients['Befund der Kinderradiologen'].value_counts()\n",
    "sns.barplot(x=patients['Befund der Kinderradiologen'].value_counts().index, y=patients['Befund der Kinderradiologen'].value_counts().values)\n",
    "\n",
    "plt.title('Number of fractures and no fractures in Gold_standard')\n",
    "plt.show()\n"
   ],
   "id": "e000efa7b1294f73",
   "outputs": [
    {
     "data": {
      "text/plain": [
       "<Figure size 640x480 with 1 Axes>"
      ],
      "image/png": "[encoded data removed]"
     },
     "metadata": {},
     "output_type": "display_data"
    }
   ],
   "execution_count": 315
  },
  {
   "metadata": {},
   "cell_type": "markdown",
   "source": "### Accuracy comparison between doctor diagnosi before and after Ai:",
   "id": "fb981eec1f1c0871"
  },
  {
   "metadata": {
    "ExecuteTime": {
     "end_time": "2024-09-22T14:29:13.166505Z",
     "start_time": "2024-09-22T14:29:12.998421Z"
    }
   },
   "cell_type": "code",
   "source": [
    "sns.barplot(x=['Doctor before Ai', 'Doctor after Ai', 'Ai'], y=[accuracy_doctor_diagnosis_beforeAi, accuracy_doctor_diagnosis_afterAi, accuracy_Ai_diagnosis])\n",
    "plt.title('Accuracy comparison between doctor diagnosi before and after Ai')\n",
    "plt.show()"
   ],
   "id": "96abcffaeb9f1362",
   "outputs": [
    {
     "name": "stderr",
     "output_type": "stream",
     "text": [
      "C:\\Users\\shels\\anaconda3\\Lib\\site-packages\\seaborn\\_oldcore.py:1765: FutureWarning:\n",
      "\n",
      "unique with argument that is not not a Series, Index, ExtensionArray, or np.ndarray is deprecated and will raise in a future version.\n",
      "\n"
     ]
    },
    {
     "data": {
      "text/plain": [
       "<Figure size 640x480 with 1 Axes>"
      ],
      "image/png": "[encoded data removed]"
     },
     "metadata": {},
     "output_type": "display_data"
    }
   ],
   "execution_count": 316
  },
  {
   "metadata": {},
   "cell_type": "markdown",
   "source": [
    "### Error Analysis:\n",
    "#### 1-Case where doctor diagrees with Ai, which one is correct?"
   ],
   "id": "bb29b3052266abb"
  },
  {
   "metadata": {
    "ExecuteTime": {
     "end_time": "2024-09-22T14:29:13.178756Z",
     "start_time": "2024-09-22T14:29:13.168676Z"
    }
   },
   "cell_type": "code",
   "source": [
    "error_analysis = patients[patients['Diagnose Arzt vor KI'] != patients['Befund KI']]\n",
    "print(f\"Number of cases where doctor diagrees with Ai: {len(error_analysis)}\")\n",
    "error_analysis = error_analysis[error_analysis['Diagnose Arzt vor KI'] == error_analysis['Befund der Kinderradiologen']]\n",
    "print(f\"Number of cases where doctor diagrees with Ai and doctor is correct: {len(error_analysis)}\")"
   ],
   "id": "6562f47f023aef99",
   "outputs": [
    {
     "name": "stdout",
     "output_type": "stream",
     "text": [
      "Number of cases where doctor diagrees with Ai: 22\n",
      "Number of cases where doctor diagrees with Ai and doctor is correct: 6\n"
     ]
    }
   ],
   "execution_count": 317
  },
  {
   "metadata": {},
   "cell_type": "markdown",
   "source": "### 2-Case where Doctor changed his diagnosis after Ai:",
   "id": "17501c37f21f14d7"
  },
  {
   "metadata": {
    "ExecuteTime": {
     "end_time": "2024-09-22T14:29:13.188151Z",
     "start_time": "2024-09-22T14:29:13.179739Z"
    }
   },
   "cell_type": "code",
   "source": [
    "doctor_changed = patients[patients['Diagnose Arzt vor KI'] != patients['Diagnose Arzt nach KI']]\n",
    "print(f\"Number of cases where doctor changed his diagnosis after Ai: {len(doctor_changed)}\")\n"
   ],
   "id": "89bc902930242dc0",
   "outputs": [
    {
     "name": "stdout",
     "output_type": "stream",
     "text": [
      "Number of cases where doctor changed his diagnosis after Ai: 11\n"
     ]
    }
   ],
   "execution_count": 318
  },
  {
   "metadata": {
    "ExecuteTime": {
     "end_time": "2024-09-22T14:29:13.212845Z",
     "start_time": "2024-09-22T14:29:13.188151Z"
    }
   },
   "cell_type": "code",
   "source": [
    "patients['change_in_procedure'] = patients['Diagnose Arzt vor KI'] != patients['Diagnose Arzt nach KI']\n",
    "# Add a new column to indicate AI agreement\n",
    "patients['ai_agreement'] = patients['Befund KI'] == patients['Diagnose Arzt vor KI']\n",
    "patients['ai_agreement'] = patients['ai_agreement'].replace({True: 'Agree', False: 'Disagree'})\n",
    "summary = patients.groupby(['ai_agreement', 'change_in_procedure']).size().unstack(fill_value=0)\n",
    "print(summary)\n"
   ],
   "id": "bd4d59c5f014504c",
   "outputs": [
    {
     "name": "stdout",
     "output_type": "stream",
     "text": [
      "change_in_procedure  False  True \n",
      "ai_agreement                     \n",
      "Agree                   73      4\n",
      "Disagree                15      7\n"
     ]
    }
   ],
   "execution_count": 319
  },
  {
   "metadata": {
    "ExecuteTime": {
     "end_time": "2024-09-22T14:29:13.577264Z",
     "start_time": "2024-09-22T14:29:13.273742Z"
    }
   },
   "cell_type": "code",
   "source": [
    "summary.plot(kind='bar', stacked=True)\n",
    "\n",
    "plt.title('Impact of AI Agreement on Doctor\\'s Procedure Changes')\n",
    "plt.xlabel('AI Agreement (1 = Agree, 0 = Disagree)')\n",
    "plt.ylabel('Count of Procedure Changes (1 = Change, 0 = No Change)')\n",
    "plt.xticks(rotation=0)  # Rotate x labels for better readability\n",
    "plt.legend(title='Procedure Change', labels=['No Change', 'Change'], loc='upper right')\n",
    "plt.show()"
   ],
   "id": "dc6e7f9008e97ed6",
   "outputs": [
    {
     "data": {
      "text/plain": [
       "<Figure size 640x480 with 1 Axes>"
      ],
      "image/png": "[encoded data removed]"
     },
     "metadata": {},
     "output_type": "display_data"
    }
   ],
   "execution_count": 321
  },
  {
   "metadata": {},
   "cell_type": "markdown",
   "source": "#### 2.1- were the changes correct?\n",
   "id": "3e925688786a97c9"
  },
  {
   "metadata": {
    "ExecuteTime": {
     "end_time": "2024-09-22T14:29:13.588125Z",
     "start_time": "2024-09-22T14:29:13.578776Z"
    }
   },
   "cell_type": "code",
   "source": [
    "before = (doctor_changed['Diagnose Arzt vor KI'] == doctor_changed['Befund der Kinderradiologen']).sum()\n",
    "after = (doctor_changed['Diagnose Arzt nach KI'] == doctor_changed['Befund der Kinderradiologen']).sum()\n",
    "print(f\"Number of cases where doctor changed his diagnosis to correct ones: {after-before}\")"
   ],
   "id": "18e9244f762ca735",
   "outputs": [
    {
     "name": "stdout",
     "output_type": "stream",
     "text": [
      "Number of cases where doctor changed his diagnosis to correct ones: 5\n"
     ]
    }
   ],
   "execution_count": 322
  },
  {
   "metadata": {},
   "cell_type": "markdown",
   "source": "In part 2 Subgroup Analaysis are performed to check if AI performance varies significantly across subgroups, with a larger dataset of Ai against the gold standard. In additions conclusions and answers will be derived from the analysis.",
   "id": "c687f2656184647f"
  },
  {
   "metadata": {},
   "cell_type": "markdown",
   "source": [
    "## Subgroup Analysis:\n",
    "Segment the data by demographic features or by fracture type,where Ai incorrectly performs to check if AI performance varies significantly across subgroups."
   ],
   "id": "e8e656941fbd38f6"
  },
  {
   "metadata": {
    "ExecuteTime": {
     "end_time": "2024-09-22T14:29:13.603820Z",
     "start_time": "2024-09-22T14:29:13.588125Z"
    }
   },
   "cell_type": "code",
   "source": [
    "check = (patients['Befund KI'] != patients['Befund der Kinderradiologen'])\n",
    "raw['Befund der Kinderradiologen'].value_counts()\n",
    "incorrect['Befund der Kinderradiologen'].value_counts()\n"
   ],
   "id": "77583c7e73c557ff",
   "outputs": [
    {
     "data": {
      "text/plain": [
       "Befund der Kinderradiologen\n",
       "0                                      5\n",
       "nicht dislozierte Fraktur              1\n",
       "nicht dislozierte Radiuswulsfraktur    1\n",
       "Name: count, dtype: int64"
      ]
     },
     "execution_count": 323,
     "metadata": {},
     "output_type": "execute_result"
    }
   ],
   "execution_count": 323
  },
  {
   "metadata": {},
   "cell_type": "markdown",
   "source": "Ai fails to indentify the following fractures:...",
   "id": "40ef7dc118ba6ce2"
  },
  {
   "metadata": {
    "ExecuteTime": {
     "end_time": "2024-09-22T14:29:13.609639Z",
     "start_time": "2024-09-22T14:29:13.603820Z"
    }
   },
   "cell_type": "code",
   "source": "",
   "id": "64737bcf23241d0e",
   "outputs": [],
   "execution_count": 323
  }
 ],
 "metadata": {
  "kernelspec": {
   "display_name": "Python 3",
   "language": "python",
   "name": "python3"
  },
  "language_info": {
   "codemirror_mode": {
    "name": "ipython",
    "version": 2
   },
   "file_extension": ".py",
   "mimetype": "text/x-python",
   "name": "python",
   "nbconvert_exporter": "python",
   "pygments_lexer": "ipython2",
   "version": "2.7.6"
  }
 },
 "nbformat": 4,
 "nbformat_minor": 5
}
